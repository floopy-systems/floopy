{
 "cells": [
  {
   "cell_type": "markdown",
   "id": "f4027380-f857-4b71-b209-5eb172245112",
   "metadata": {},
   "source": [
    "# Tutorial\n",
    "\n",
    "This tutorial shows the basic concept behind *FLooPy*."
   ]
  },
  {
   "cell_type": "markdown",
   "id": "01cd25df-b899-4aac-ae7d-cd4ccd5103df",
   "metadata": {},
   "source": [
    "## Getting Started"
   ]
  },
  {
   "cell_type": "code",
   "execution_count": 1,
   "id": "4cf26ab9-1188-4e5d-b606-298bd66d4ef9",
   "metadata": {},
   "outputs": [],
   "source": [
    "import floopy as fly\n",
    "from numpy import pi, cos, sin\n",
    "\n",
    "\n",
    "class Lissajous(fly.Task):\n",
    "    phi  = fly.loop_items(15, 210, loop_level=1)  # loop (phi, freq) simultaneously\n",
    "    freq = fly.loop_items( 2, 0.6, loop_level=1)  # ... as outer loop\n",
    "    t    = fly.loop_lin(0, 2, step=0.02)    # inner loop\n",
    "\n",
    "    def task_x(t):\n",
    "        return sin(2 * pi * t)\n",
    "\n",
    "    def task_y(t, freq, phi):\n",
    "        return cos(2 * pi * freq * t + phi * pi/180)"
   ]
  },
  {
   "cell_type": "code",
   "execution_count": 2,
   "id": "daf010c3-7cae-4f7b-8dcc-7efd64544b60",
   "metadata": {},
   "outputs": [
    {
     "data": {
      "application/vnd.jupyter.widget-view+json": {
       "model_id": "e5888bf8befb46088f99622f5a3815a2",
       "version_major": 2,
       "version_minor": 0
      },
      "text/plain": [
       "Output()"
      ]
     },
     "metadata": {},
     "output_type": "display_data"
    },
    {
     "data": {
      "text/html": [
       "<pre style=\"white-space:pre;overflow-x:auto;line-height:normal;font-family:Menlo,'DejaVu Sans Mono',consolas,'Courier New',monospace\"></pre>\n"
      ],
      "text/plain": []
     },
     "metadata": {},
     "output_type": "display_data"
    },
    {
     "data": {
      "text/html": [
       "<pre style=\"white-space:pre;overflow-x:auto;line-height:normal;font-family:Menlo,'DejaVu Sans Mono',consolas,'Courier New',monospace\">File: dm/dm_2024-10-02_20:50:11.json\n",
       "</pre>\n"
      ],
      "text/plain": [
       "File: dm/dm_2024-10-02_20:50:11.json\n"
      ]
     },
     "metadata": {},
     "output_type": "display_data"
    }
   ],
   "source": [
    "dm = fly.DataManager()\n",
    "dm.run_live(Lissajous)"
   ]
  },
  {
   "cell_type": "code",
   "execution_count": 3,
   "id": "fe586976-2090-4fe0-8e67-333ae337e9df",
   "metadata": {},
   "outputs": [
    {
     "data": {
      "text/html": [
       "<div>\n",
       "<style scoped>\n",
       "    .dataframe tbody tr th:only-of-type {\n",
       "        vertical-align: middle;\n",
       "    }\n",
       "\n",
       "    .dataframe tbody tr th {\n",
       "        vertical-align: top;\n",
       "    }\n",
       "\n",
       "    .dataframe thead th {\n",
       "        text-align: right;\n",
       "    }\n",
       "</style>\n",
       "<table border=\"1\" class=\"dataframe\">\n",
       "  <thead>\n",
       "    <tr style=\"text-align: right;\">\n",
       "      <th></th>\n",
       "      <th></th>\n",
       "      <th></th>\n",
       "      <th>task_x</th>\n",
       "      <th>task_y</th>\n",
       "    </tr>\n",
       "    <tr>\n",
       "      <th>phi</th>\n",
       "      <th>freq</th>\n",
       "      <th>t</th>\n",
       "      <th></th>\n",
       "      <th></th>\n",
       "    </tr>\n",
       "  </thead>\n",
       "  <tbody>\n",
       "    <tr>\n",
       "      <th rowspan=\"5\" valign=\"top\">15</th>\n",
       "      <th rowspan=\"5\" valign=\"top\">2.0</th>\n",
       "      <th>0.00</th>\n",
       "      <td>0.000000e+00</td>\n",
       "      <td>0.965926</td>\n",
       "    </tr>\n",
       "    <tr>\n",
       "      <th>0.02</th>\n",
       "      <td>1.253332e-01</td>\n",
       "      <td>0.871214</td>\n",
       "    </tr>\n",
       "    <tr>\n",
       "      <th>0.04</th>\n",
       "      <td>2.486899e-01</td>\n",
       "      <td>0.721760</td>\n",
       "    </tr>\n",
       "    <tr>\n",
       "      <th>0.06</th>\n",
       "      <td>3.681246e-01</td>\n",
       "      <td>0.526956</td>\n",
       "    </tr>\n",
       "    <tr>\n",
       "      <th>0.08</th>\n",
       "      <td>4.817537e-01</td>\n",
       "      <td>0.299041</td>\n",
       "    </tr>\n",
       "    <tr>\n",
       "      <th>...</th>\n",
       "      <th>...</th>\n",
       "      <th>...</th>\n",
       "      <td>...</td>\n",
       "      <td>...</td>\n",
       "    </tr>\n",
       "    <tr>\n",
       "      <th rowspan=\"5\" valign=\"top\">210</th>\n",
       "      <th rowspan=\"5\" valign=\"top\">0.6</th>\n",
       "      <th>1.92</th>\n",
       "      <td>-4.817537e-01</td>\n",
       "      <td>-0.092023</td>\n",
       "    </tr>\n",
       "    <tr>\n",
       "      <th>1.94</th>\n",
       "      <td>-3.681246e-01</td>\n",
       "      <td>-0.016754</td>\n",
       "    </tr>\n",
       "    <tr>\n",
       "      <th>1.96</th>\n",
       "      <td>-2.486899e-01</td>\n",
       "      <td>0.058609</td>\n",
       "    </tr>\n",
       "    <tr>\n",
       "      <th>1.98</th>\n",
       "      <td>-1.253332e-01</td>\n",
       "      <td>0.133640</td>\n",
       "    </tr>\n",
       "    <tr>\n",
       "      <th>2.00</th>\n",
       "      <td>-4.898587e-16</td>\n",
       "      <td>0.207912</td>\n",
       "    </tr>\n",
       "  </tbody>\n",
       "</table>\n",
       "<p>202 rows × 2 columns</p>\n",
       "</div>"
      ],
      "text/plain": [
       "                     task_x    task_y\n",
       "phi freq t                           \n",
       "15  2.0  0.00  0.000000e+00  0.965926\n",
       "         0.02  1.253332e-01  0.871214\n",
       "         0.04  2.486899e-01  0.721760\n",
       "         0.06  3.681246e-01  0.526956\n",
       "         0.08  4.817537e-01  0.299041\n",
       "...                     ...       ...\n",
       "210 0.6  1.92 -4.817537e-01 -0.092023\n",
       "         1.94 -3.681246e-01 -0.016754\n",
       "         1.96 -2.486899e-01  0.058609\n",
       "         1.98 -1.253332e-01  0.133640\n",
       "         2.00 -4.898587e-16  0.207912\n",
       "\n",
       "[202 rows x 2 columns]"
      ]
     },
     "execution_count": 3,
     "metadata": {},
     "output_type": "execute_result"
    }
   ],
   "source": [
    "# Read the results as a pandas-table.\n",
    "df = dm.read_task(Lissajous)\n",
    "df"
   ]
  },
  {
   "cell_type": "code",
   "execution_count": 4,
   "id": "422cbd00-0201-4e61-9ea8-817cad2c7c29",
   "metadata": {},
   "outputs": [
    {
     "data": {
      "text/plain": [
       "<AxesSubplot: xlabel='task_x', ylabel='task_y'>"
      ]
     },
     "execution_count": 4,
     "metadata": {},
     "output_type": "execute_result"
    },
    {
     "data": {
      "image/png": "[encoded data removed]",
      "text/plain": [
       "<Figure size 640x480 with 1 Axes>"
      ]
     },
     "metadata": {},
     "output_type": "display_data"
    }
   ],
   "source": [
    "# plot the results with matplotlib/seaborn\n",
    "import seaborn as sns\n",
    "sns.set_theme()\n",
    "\n",
    "\n",
    "df = df.reset_index()\n",
    "sns.lineplot(\n",
    "    data=df,\n",
    "    x='task_x',\n",
    "    y='task_y',\n",
    "    hue=[f'{phi=:3}, {freq=}' for phi, freq in zip(df.phi, df.freq)],  # set of curves\n",
    "    palette='muted',\n",
    "    sort=False,\n",
    "    estimator=None,\n",
    ")"
   ]
  },
  {
   "cell_type": "markdown",
   "id": "37cb22c8-5ed4-4390-8031-c7841e9f8090",
   "metadata": {},
   "source": [
    "## HV-Loop Sections\n",
    "\n",
    "In general an experiment can be devided into five **sections**:\n",
    "\n",
    "1. **Setup**: Initialize all the instrument and prepare the device-under-test (dut)\n",
    "2. **Task/Test**: Perform one or multiple (measurement) tasks often with loops.\n",
    "3. **Teardown**: Clean-up\n",
    "4. **Final**: Analyse the measurement results, e.g. data-fitting, test-report, datasheet or plots   \n",
    "6. **Return** the relevant (test) results, e.g. pass/fail\n",
    "\n",
    "In *FLooPy* these steps can be implemented with a `Task` class:"
   ]
  },
  {
   "cell_type": "code",
   "execution_count": 5,
   "id": "43d370ae-2e51-4449-854c-7fa36aba0ac7",
   "metadata": {},
   "outputs": [],
   "source": [
    "import floopy as fly"
   ]
  },
  {
   "cell_type": "code",
   "execution_count": 6,
   "id": "524fa016-5450-47cc-afb1-1508d1a4cd1e",
   "metadata": {},
   "outputs": [],
   "source": [
    "class MyTask(fly.Task):\n",
    "    ### 1. Setup Section ###    \n",
    "    def setup_1(): ...\n",
    "    def setup_2(): ...\n",
    "\n",
    "    ### 2. Task/Test Section ###\n",
    "    def task_1(): ...\n",
    "    def task_2(): ...\n",
    "        \n",
    "    ### 3. Teardown Section ###\n",
    "    def teardown_1(): ...\n",
    "    def teardown_2(): ...\n",
    "    \n",
    "    ### 4. Final Section ###\n",
    "    def final_1(): ...\n",
    "    def final_2(): ...\n",
    "\n",
    "    ### 5. Return-Value of MyTask ###\n",
    "    def __return__(): ..."
   ]
  },
  {
   "cell_type": "markdown",
   "id": "158e5ad5-7c11-4b43-9398-281495420036",
   "metadata": {},
   "source": [
    "The numbers `_1` and `_2` should be substituted with meaningfull names. Inside the functions the actual task/test or analysis is performed. \n",
    "\n",
    "Every section is optional and can have multiple functions. These functions are evaluated sequentialy."
   ]
  },
  {
   "cell_type": "markdown",
   "id": "0f0f4bb0-be2b-4a03-aa8b-d7582c926b0b",
   "metadata": {},
   "source": [
    "In order to run the experiment a *DataManager* needed saveing the function results."
   ]
  },
  {
   "cell_type": "code",
   "execution_count": 7,
   "id": "5343d0d6-2494-48a8-b308-2282d5ca59a5",
   "metadata": {},
   "outputs": [],
   "source": [
    "dm = fly.DataManager()"
   ]
  },
  {
   "cell_type": "code",
   "execution_count": 8,
   "id": "00665fac-ca04-428d-8ddc-c81f08b81659",
   "metadata": {},
   "outputs": [
    {
     "data": {
      "application/vnd.jupyter.widget-view+json": {
       "model_id": "915ab6f548bb4f8c914f88340eedac9e",
       "version_major": 2,
       "version_minor": 0
      },
      "text/plain": [
       "Output()"
      ]
     },
     "metadata": {},
     "output_type": "display_data"
    },
    {
     "data": {
      "text/html": [
       "<pre style=\"white-space:pre;overflow-x:auto;line-height:normal;font-family:Menlo,'DejaVu Sans Mono',consolas,'Courier New',monospace\"></pre>\n"
      ],
      "text/plain": []
     },
     "metadata": {},
     "output_type": "display_data"
    },
    {
     "data": {
      "text/html": [
       "<pre style=\"white-space:pre;overflow-x:auto;line-height:normal;font-family:Menlo,'DejaVu Sans Mono',consolas,'Courier New',monospace\">File: dm/dm_2024-10-02_20:50:25.json\n",
       "</pre>\n"
      ],
      "text/plain": [
       "File: dm/dm_2024-10-02_20:50:25.json\n"
      ]
     },
     "metadata": {},
     "output_type": "display_data"
    }
   ],
   "source": [
    "dm.run_live(MyTask)"
   ]
  },
  {
   "cell_type": "markdown",
   "id": "62dac909-34e2-435c-ab71-982d8cffe4f3",
   "metadata": {},
   "source": [
    "Many experiments need to repeat certain steps. This can be done with *FLooPy*-**Loops** in two ways: \n",
    "* Run a *horizontal* loop over the complete second task/test section\n",
    "* Run a *vertical* loop (locally) over a function argument"
   ]
  },
  {
   "cell_type": "code",
   "execution_count": 9,
   "id": "929d35ec-0e5d-4ec0-9944-916b9327c006",
   "metadata": {},
   "outputs": [],
   "source": [
    "class MyTask(fly.Task):\n",
    "    myoption = fly.loop_items(True, False)\n",
    "    \n",
    "    def task_1(x=fly.loop(3, 4, 5)): ...\n",
    "    def task_2(y=fly.loop('A', 'B')): ..."
   ]
  },
  {
   "cell_type": "code",
   "execution_count": 10,
   "id": "f8ff1e10-520f-458f-845f-3b0412d3b76f",
   "metadata": {},
   "outputs": [
    {
     "data": {
      "text/html": [
       "<pre style=\"white-space:pre;overflow-x:auto;line-height:normal;font-family:Menlo,'DejaVu Sans Mono',consolas,'Courier New',monospace\"><span style=\"color: #7fbfbf; text-decoration-color: #7fbfbf\">[20:50:29]</span>  <span style=\"color: #268bd2; text-decoration-color: #268bd2; font-weight: bold\">task_1</span> | <span style=\"color: #cb4b16; text-decoration-color: #cb4b16\">myoption</span>=<span style=\"color: #859900; text-decoration-color: #859900; font-weight: bold; font-style: italic\">True</span>, task_1.<span style=\"color: #cb4b16; text-decoration-color: #cb4b16\">x</span>=3\n",
       "</pre>\n"
      ],
      "text/plain": [
       "\u001b[2;36m[\u001b[0m\u001b[2;36m20:50:29\u001b[0m\u001b[2;36m]\u001b[0m  \u001b[1;38;2;38;139;210mtask_1\u001b[0m | \u001b[38;2;203;75;22mmyoption\u001b[0m=\u001b[1;3;38;2;133;153;0mTrue\u001b[0m, task_1.\u001b[38;2;203;75;22mx\u001b[0m=3\n"
      ]
     },
     "metadata": {},
     "output_type": "display_data"
    },
    {
     "data": {
      "text/html": [
       "<pre style=\"white-space:pre;overflow-x:auto;line-height:normal;font-family:Menlo,'DejaVu Sans Mono',consolas,'Courier New',monospace\"><span style=\"color: #7fbfbf; text-decoration-color: #7fbfbf\">[20:50:29]</span>  <span style=\"color: #268bd2; text-decoration-color: #268bd2; font-weight: bold\">task_1</span> | <span style=\"color: #cb4b16; text-decoration-color: #cb4b16\">myoption</span>=<span style=\"color: #859900; text-decoration-color: #859900; font-weight: bold; font-style: italic\">True</span>, task_1.<span style=\"color: #cb4b16; text-decoration-color: #cb4b16\">x</span>=4\n",
       "</pre>\n"
      ],
      "text/plain": [
       "\u001b[2;36m[\u001b[0m\u001b[2;36m20:50:29\u001b[0m\u001b[2;36m]\u001b[0m  \u001b[1;38;2;38;139;210mtask_1\u001b[0m | \u001b[38;2;203;75;22mmyoption\u001b[0m=\u001b[1;3;38;2;133;153;0mTrue\u001b[0m, task_1.\u001b[38;2;203;75;22mx\u001b[0m=4\n"
      ]
     },
     "metadata": {},
     "output_type": "display_data"
    },
    {
     "data": {
      "text/html": [
       "<pre style=\"white-space:pre;overflow-x:auto;line-height:normal;font-family:Menlo,'DejaVu Sans Mono',consolas,'Courier New',monospace\"><span style=\"color: #7fbfbf; text-decoration-color: #7fbfbf\">[20:50:29]</span>  <span style=\"color: #268bd2; text-decoration-color: #268bd2; font-weight: bold\">task_1</span> | <span style=\"color: #cb4b16; text-decoration-color: #cb4b16\">myoption</span>=<span style=\"color: #859900; text-decoration-color: #859900; font-weight: bold; font-style: italic\">True</span>, task_1.<span style=\"color: #cb4b16; text-decoration-color: #cb4b16\">x</span>=5\n",
       "</pre>\n"
      ],
      "text/plain": [
       "\u001b[2;36m[\u001b[0m\u001b[2;36m20:50:29\u001b[0m\u001b[2;36m]\u001b[0m  \u001b[1;38;2;38;139;210mtask_1\u001b[0m | \u001b[38;2;203;75;22mmyoption\u001b[0m=\u001b[1;3;38;2;133;153;0mTrue\u001b[0m, task_1.\u001b[38;2;203;75;22mx\u001b[0m=5\n"
      ]
     },
     "metadata": {},
     "output_type": "display_data"
    },
    {
     "data": {
      "text/html": [
       "<pre style=\"white-space:pre;overflow-x:auto;line-height:normal;font-family:Menlo,'DejaVu Sans Mono',consolas,'Courier New',monospace\"><span style=\"color: #7fbfbf; text-decoration-color: #7fbfbf\">[20:50:29]</span>  <span style=\"color: #268bd2; text-decoration-color: #268bd2; font-weight: bold\">task_2</span> | <span style=\"color: #cb4b16; text-decoration-color: #cb4b16\">myoption</span>=<span style=\"color: #859900; text-decoration-color: #859900; font-weight: bold; font-style: italic\">True</span>, task_2.<span style=\"color: #cb4b16; text-decoration-color: #cb4b16\">y</span>=<span style=\"color: #859900; text-decoration-color: #859900\">'A'</span>\n",
       "</pre>\n"
      ],
      "text/plain": [
       "\u001b[2;36m[\u001b[0m\u001b[2;36m20:50:29\u001b[0m\u001b[2;36m]\u001b[0m  \u001b[1;38;2;38;139;210mtask_2\u001b[0m | \u001b[38;2;203;75;22mmyoption\u001b[0m=\u001b[1;3;38;2;133;153;0mTrue\u001b[0m, task_2.\u001b[38;2;203;75;22my\u001b[0m=\u001b[38;2;133;153;0m'A'\u001b[0m\n"
      ]
     },
     "metadata": {},
     "output_type": "display_data"
    },
    {
     "data": {
      "text/html": [
       "<pre style=\"white-space:pre;overflow-x:auto;line-height:normal;font-family:Menlo,'DejaVu Sans Mono',consolas,'Courier New',monospace\"><span style=\"color: #7fbfbf; text-decoration-color: #7fbfbf\">[20:50:29]</span>  <span style=\"color: #268bd2; text-decoration-color: #268bd2; font-weight: bold\">task_2</span> | <span style=\"color: #cb4b16; text-decoration-color: #cb4b16\">myoption</span>=<span style=\"color: #859900; text-decoration-color: #859900; font-weight: bold; font-style: italic\">True</span>, task_2.<span style=\"color: #cb4b16; text-decoration-color: #cb4b16\">y</span>=<span style=\"color: #859900; text-decoration-color: #859900\">'B'</span>\n",
       "</pre>\n"
      ],
      "text/plain": [
       "\u001b[2;36m[\u001b[0m\u001b[2;36m20:50:29\u001b[0m\u001b[2;36m]\u001b[0m  \u001b[1;38;2;38;139;210mtask_2\u001b[0m | \u001b[38;2;203;75;22mmyoption\u001b[0m=\u001b[1;3;38;2;133;153;0mTrue\u001b[0m, task_2.\u001b[38;2;203;75;22my\u001b[0m=\u001b[38;2;133;153;0m'B'\u001b[0m\n"
      ]
     },
     "metadata": {},
     "output_type": "display_data"
    },
    {
     "data": {
      "text/html": [
       "<pre style=\"white-space:pre;overflow-x:auto;line-height:normal;font-family:Menlo,'DejaVu Sans Mono',consolas,'Courier New',monospace\"><span style=\"color: #7fbfbf; text-decoration-color: #7fbfbf\">[20:50:29]</span>  <span style=\"color: #268bd2; text-decoration-color: #268bd2; font-weight: bold\">task_1</span> | <span style=\"color: #cb4b16; text-decoration-color: #cb4b16\">myoption</span>=<span style=\"color: #dc322f; text-decoration-color: #dc322f; font-weight: bold; font-style: italic\">False</span>, task_1.<span style=\"color: #cb4b16; text-decoration-color: #cb4b16\">x</span>=3\n",
       "</pre>\n"
      ],
      "text/plain": [
       "\u001b[2;36m[\u001b[0m\u001b[2;36m20:50:29\u001b[0m\u001b[2;36m]\u001b[0m  \u001b[1;38;2;38;139;210mtask_1\u001b[0m | \u001b[38;2;203;75;22mmyoption\u001b[0m=\u001b[1;3;38;2;220;50;47mFalse\u001b[0m, task_1.\u001b[38;2;203;75;22mx\u001b[0m=3\n"
      ]
     },
     "metadata": {},
     "output_type": "display_data"
    },
    {
     "data": {
      "text/html": [
       "<pre style=\"white-space:pre;overflow-x:auto;line-height:normal;font-family:Menlo,'DejaVu Sans Mono',consolas,'Courier New',monospace\"><span style=\"color: #7fbfbf; text-decoration-color: #7fbfbf\">[20:50:29]</span>  <span style=\"color: #268bd2; text-decoration-color: #268bd2; font-weight: bold\">task_1</span> | <span style=\"color: #cb4b16; text-decoration-color: #cb4b16\">myoption</span>=<span style=\"color: #dc322f; text-decoration-color: #dc322f; font-weight: bold; font-style: italic\">False</span>, task_1.<span style=\"color: #cb4b16; text-decoration-color: #cb4b16\">x</span>=4\n",
       "</pre>\n"
      ],
      "text/plain": [
       "\u001b[2;36m[\u001b[0m\u001b[2;36m20:50:29\u001b[0m\u001b[2;36m]\u001b[0m  \u001b[1;38;2;38;139;210mtask_1\u001b[0m | \u001b[38;2;203;75;22mmyoption\u001b[0m=\u001b[1;3;38;2;220;50;47mFalse\u001b[0m, task_1.\u001b[38;2;203;75;22mx\u001b[0m=4\n"
      ]
     },
     "metadata": {},
     "output_type": "display_data"
    },
    {
     "data": {
      "text/html": [
       "<pre style=\"white-space:pre;overflow-x:auto;line-height:normal;font-family:Menlo,'DejaVu Sans Mono',consolas,'Courier New',monospace\"><span style=\"color: #7fbfbf; text-decoration-color: #7fbfbf\">[20:50:29]</span>  <span style=\"color: #268bd2; text-decoration-color: #268bd2; font-weight: bold\">task_1</span> | <span style=\"color: #cb4b16; text-decoration-color: #cb4b16\">myoption</span>=<span style=\"color: #dc322f; text-decoration-color: #dc322f; font-weight: bold; font-style: italic\">False</span>, task_1.<span style=\"color: #cb4b16; text-decoration-color: #cb4b16\">x</span>=5\n",
       "</pre>\n"
      ],
      "text/plain": [
       "\u001b[2;36m[\u001b[0m\u001b[2;36m20:50:29\u001b[0m\u001b[2;36m]\u001b[0m  \u001b[1;38;2;38;139;210mtask_1\u001b[0m | \u001b[38;2;203;75;22mmyoption\u001b[0m=\u001b[1;3;38;2;220;50;47mFalse\u001b[0m, task_1.\u001b[38;2;203;75;22mx\u001b[0m=5\n"
      ]
     },
     "metadata": {},
     "output_type": "display_data"
    },
    {
     "data": {
      "text/html": [
       "<pre style=\"white-space:pre;overflow-x:auto;line-height:normal;font-family:Menlo,'DejaVu Sans Mono',consolas,'Courier New',monospace\"><span style=\"color: #7fbfbf; text-decoration-color: #7fbfbf\">[20:50:29]</span>  <span style=\"color: #268bd2; text-decoration-color: #268bd2; font-weight: bold\">task_2</span> | <span style=\"color: #cb4b16; text-decoration-color: #cb4b16\">myoption</span>=<span style=\"color: #dc322f; text-decoration-color: #dc322f; font-weight: bold; font-style: italic\">False</span>, task_2.<span style=\"color: #cb4b16; text-decoration-color: #cb4b16\">y</span>=<span style=\"color: #859900; text-decoration-color: #859900\">'A'</span>\n",
       "</pre>\n"
      ],
      "text/plain": [
       "\u001b[2;36m[\u001b[0m\u001b[2;36m20:50:29\u001b[0m\u001b[2;36m]\u001b[0m  \u001b[1;38;2;38;139;210mtask_2\u001b[0m | \u001b[38;2;203;75;22mmyoption\u001b[0m=\u001b[1;3;38;2;220;50;47mFalse\u001b[0m, task_2.\u001b[38;2;203;75;22my\u001b[0m=\u001b[38;2;133;153;0m'A'\u001b[0m\n"
      ]
     },
     "metadata": {},
     "output_type": "display_data"
    },
    {
     "data": {
      "text/html": [
       "<pre style=\"white-space:pre;overflow-x:auto;line-height:normal;font-family:Menlo,'DejaVu Sans Mono',consolas,'Courier New',monospace\"><span style=\"color: #7fbfbf; text-decoration-color: #7fbfbf\">[20:50:29]</span>  <span style=\"color: #268bd2; text-decoration-color: #268bd2; font-weight: bold\">task_2</span> | <span style=\"color: #cb4b16; text-decoration-color: #cb4b16\">myoption</span>=<span style=\"color: #dc322f; text-decoration-color: #dc322f; font-weight: bold; font-style: italic\">False</span>, task_2.<span style=\"color: #cb4b16; text-decoration-color: #cb4b16\">y</span>=<span style=\"color: #859900; text-decoration-color: #859900\">'B'</span>\n",
       "</pre>\n"
      ],
      "text/plain": [
       "\u001b[2;36m[\u001b[0m\u001b[2;36m20:50:29\u001b[0m\u001b[2;36m]\u001b[0m  \u001b[1;38;2;38;139;210mtask_2\u001b[0m | \u001b[38;2;203;75;22mmyoption\u001b[0m=\u001b[1;3;38;2;220;50;47mFalse\u001b[0m, task_2.\u001b[38;2;203;75;22my\u001b[0m=\u001b[38;2;133;153;0m'B'\u001b[0m\n"
      ]
     },
     "metadata": {},
     "output_type": "display_data"
    },
    {
     "data": {
      "text/html": [
       "<pre style=\"white-space:pre;overflow-x:auto;line-height:normal;font-family:Menlo,'DejaVu Sans Mono',consolas,'Courier New',monospace\">\n",
       "</pre>\n"
      ],
      "text/plain": [
       "\n"
      ]
     },
     "metadata": {},
     "output_type": "display_data"
    },
    {
     "data": {
      "text/html": [
       "<pre style=\"white-space:pre;overflow-x:auto;line-height:normal;font-family:Menlo,'DejaVu Sans Mono',consolas,'Courier New',monospace\">File: dm/dm_2024-10-02_20:50:29.json\n",
       "</pre>\n"
      ],
      "text/plain": [
       "File: dm/dm_2024-10-02_20:50:29.json\n"
      ]
     },
     "metadata": {},
     "output_type": "display_data"
    }
   ],
   "source": [
    "dm.run_log(MyTask)"
   ]
  },
  {
   "cell_type": "markdown",
   "id": "f545ef7e-a31a-4dda-8ff7-39a51f4b4bf0",
   "metadata": {},
   "source": [
    "The `myoption`-loop behaves like a usual for-loop (written *horizontally*) with the task-section as the loop-body (written *vertically*)."
   ]
  },
  {
   "cell_type": "markdown",
   "id": "f95ac17f-e724-4f46-a475-ca4ae821e51f",
   "metadata": {},
   "source": [
    "## Loop Configuration"
   ]
  },
  {
   "cell_type": "markdown",
   "id": "85a0f591-11b4-411b-8455-9ef9c651e6e0",
   "metadata": {},
   "source": [
    "Currently *FLooPy* has four basic loop types:\n",
    "* `loop_items(item_1, ...)` for looping over a sequence of items\n",
    "* `loop_lin(start, stop, step=1, num=None)` linear sweep from start to stop with either a fixed step-size or a fixed number of steps.\n",
    "* `loop_log(start, stop, num)` logarithmic sweep\n",
    "* `loop_bisect(start, stop, cycles=3)` biset the interval from start to stop within three cycles\n",
    "\n",
    "*Note:* It is possible to feedback the function-result into the loop enabling real-time optimization or Hardware-in-the-Loop layouts. But this feature is not covered by this tutorial."
   ]
  },
  {
   "cell_type": "markdown",
   "id": "b9b96ac0-0e8b-4a5d-8899-47f6a0d07b52",
   "metadata": {},
   "source": [
    "### Nested Loops\n",
    "\n",
    "The default loop configuration for multiple loops is *nesting*"
   ]
  },
  {
   "cell_type": "code",
   "execution_count": 11,
   "id": "ecf846a9-6f58-48ab-841f-e27fcc6e6746",
   "metadata": {},
   "outputs": [],
   "source": [
    "class MyTask(fly.Task):\n",
    "    x = fly.loop_lin(20, 30, num=3)\n",
    "    y = fly.loop_log(1, 100, num=3)\n",
    "\n",
    "    def task(x, y): ..."
   ]
  },
  {
   "cell_type": "code",
   "execution_count": 12,
   "id": "44a0505a-e6ba-42d5-a78d-af10d850563a",
   "metadata": {},
   "outputs": [
    {
     "data": {
      "text/html": [
       "<pre style=\"white-space:pre;overflow-x:auto;line-height:normal;font-family:Menlo,'DejaVu Sans Mono',consolas,'Courier New',monospace\"><span style=\"color: #7fbfbf; text-decoration-color: #7fbfbf\">[20:50:34]</span>  <span style=\"color: #268bd2; text-decoration-color: #268bd2; font-weight: bold\">task</span> | <span style=\"color: #cb4b16; text-decoration-color: #cb4b16\">x</span>=20.0, <span style=\"color: #cb4b16; text-decoration-color: #cb4b16\">y</span>=1.0\n",
       "</pre>\n"
      ],
      "text/plain": [
       "\u001b[2;36m[\u001b[0m\u001b[2;36m20:50:34\u001b[0m\u001b[2;36m]\u001b[0m  \u001b[1;38;2;38;139;210mtask\u001b[0m | \u001b[38;2;203;75;22mx\u001b[0m=20.0, \u001b[38;2;203;75;22my\u001b[0m=1.0\n"
      ]
     },
     "metadata": {},
     "output_type": "display_data"
    },
    {
     "data": {
      "text/html": [
       "<pre style=\"white-space:pre;overflow-x:auto;line-height:normal;font-family:Menlo,'DejaVu Sans Mono',consolas,'Courier New',monospace\"><span style=\"color: #7fbfbf; text-decoration-color: #7fbfbf\">[20:50:34]</span>  <span style=\"color: #268bd2; text-decoration-color: #268bd2; font-weight: bold\">task</span> | <span style=\"color: #cb4b16; text-decoration-color: #cb4b16\">x</span>=20.0, <span style=\"color: #cb4b16; text-decoration-color: #cb4b16\">y</span>=10.0\n",
       "</pre>\n"
      ],
      "text/plain": [
       "\u001b[2;36m[\u001b[0m\u001b[2;36m20:50:34\u001b[0m\u001b[2;36m]\u001b[0m  \u001b[1;38;2;38;139;210mtask\u001b[0m | \u001b[38;2;203;75;22mx\u001b[0m=20.0, \u001b[38;2;203;75;22my\u001b[0m=10.0\n"
      ]
     },
     "metadata": {},
     "output_type": "display_data"
    },
    {
     "data": {
      "text/html": [
       "<pre style=\"white-space:pre;overflow-x:auto;line-height:normal;font-family:Menlo,'DejaVu Sans Mono',consolas,'Courier New',monospace\"><span style=\"color: #7fbfbf; text-decoration-color: #7fbfbf\">[20:50:34]</span>  <span style=\"color: #268bd2; text-decoration-color: #268bd2; font-weight: bold\">task</span> | <span style=\"color: #cb4b16; text-decoration-color: #cb4b16\">x</span>=20.0, <span style=\"color: #cb4b16; text-decoration-color: #cb4b16\">y</span>=100.0\n",
       "</pre>\n"
      ],
      "text/plain": [
       "\u001b[2;36m[\u001b[0m\u001b[2;36m20:50:34\u001b[0m\u001b[2;36m]\u001b[0m  \u001b[1;38;2;38;139;210mtask\u001b[0m | \u001b[38;2;203;75;22mx\u001b[0m=20.0, \u001b[38;2;203;75;22my\u001b[0m=100.0\n"
      ]
     },
     "metadata": {},
     "output_type": "display_data"
    },
    {
     "data": {
      "text/html": [
       "<pre style=\"white-space:pre;overflow-x:auto;line-height:normal;font-family:Menlo,'DejaVu Sans Mono',consolas,'Courier New',monospace\"><span style=\"color: #7fbfbf; text-decoration-color: #7fbfbf\">[20:50:34]</span>  <span style=\"color: #268bd2; text-decoration-color: #268bd2; font-weight: bold\">task</span> | <span style=\"color: #cb4b16; text-decoration-color: #cb4b16\">x</span>=25.0, <span style=\"color: #cb4b16; text-decoration-color: #cb4b16\">y</span>=1.0\n",
       "</pre>\n"
      ],
      "text/plain": [
       "\u001b[2;36m[\u001b[0m\u001b[2;36m20:50:34\u001b[0m\u001b[2;36m]\u001b[0m  \u001b[1;38;2;38;139;210mtask\u001b[0m | \u001b[38;2;203;75;22mx\u001b[0m=25.0, \u001b[38;2;203;75;22my\u001b[0m=1.0\n"
      ]
     },
     "metadata": {},
     "output_type": "display_data"
    },
    {
     "data": {
      "text/html": [
       "<pre style=\"white-space:pre;overflow-x:auto;line-height:normal;font-family:Menlo,'DejaVu Sans Mono',consolas,'Courier New',monospace\"><span style=\"color: #7fbfbf; text-decoration-color: #7fbfbf\">[20:50:34]</span>  <span style=\"color: #268bd2; text-decoration-color: #268bd2; font-weight: bold\">task</span> | <span style=\"color: #cb4b16; text-decoration-color: #cb4b16\">x</span>=25.0, <span style=\"color: #cb4b16; text-decoration-color: #cb4b16\">y</span>=10.0\n",
       "</pre>\n"
      ],
      "text/plain": [
       "\u001b[2;36m[\u001b[0m\u001b[2;36m20:50:34\u001b[0m\u001b[2;36m]\u001b[0m  \u001b[1;38;2;38;139;210mtask\u001b[0m | \u001b[38;2;203;75;22mx\u001b[0m=25.0, \u001b[38;2;203;75;22my\u001b[0m=10.0\n"
      ]
     },
     "metadata": {},
     "output_type": "display_data"
    },
    {
     "data": {
      "text/html": [
       "<pre style=\"white-space:pre;overflow-x:auto;line-height:normal;font-family:Menlo,'DejaVu Sans Mono',consolas,'Courier New',monospace\"><span style=\"color: #7fbfbf; text-decoration-color: #7fbfbf\">[20:50:34]</span>  <span style=\"color: #268bd2; text-decoration-color: #268bd2; font-weight: bold\">task</span> | <span style=\"color: #cb4b16; text-decoration-color: #cb4b16\">x</span>=25.0, <span style=\"color: #cb4b16; text-decoration-color: #cb4b16\">y</span>=100.0\n",
       "</pre>\n"
      ],
      "text/plain": [
       "\u001b[2;36m[\u001b[0m\u001b[2;36m20:50:34\u001b[0m\u001b[2;36m]\u001b[0m  \u001b[1;38;2;38;139;210mtask\u001b[0m | \u001b[38;2;203;75;22mx\u001b[0m=25.0, \u001b[38;2;203;75;22my\u001b[0m=100.0\n"
      ]
     },
     "metadata": {},
     "output_type": "display_data"
    },
    {
     "data": {
      "text/html": [
       "<pre style=\"white-space:pre;overflow-x:auto;line-height:normal;font-family:Menlo,'DejaVu Sans Mono',consolas,'Courier New',monospace\"><span style=\"color: #7fbfbf; text-decoration-color: #7fbfbf\">[20:50:34]</span>  <span style=\"color: #268bd2; text-decoration-color: #268bd2; font-weight: bold\">task</span> | <span style=\"color: #cb4b16; text-decoration-color: #cb4b16\">x</span>=30.0, <span style=\"color: #cb4b16; text-decoration-color: #cb4b16\">y</span>=1.0\n",
       "</pre>\n"
      ],
      "text/plain": [
       "\u001b[2;36m[\u001b[0m\u001b[2;36m20:50:34\u001b[0m\u001b[2;36m]\u001b[0m  \u001b[1;38;2;38;139;210mtask\u001b[0m | \u001b[38;2;203;75;22mx\u001b[0m=30.0, \u001b[38;2;203;75;22my\u001b[0m=1.0\n"
      ]
     },
     "metadata": {},
     "output_type": "display_data"
    },
    {
     "data": {
      "text/html": [
       "<pre style=\"white-space:pre;overflow-x:auto;line-height:normal;font-family:Menlo,'DejaVu Sans Mono',consolas,'Courier New',monospace\"><span style=\"color: #7fbfbf; text-decoration-color: #7fbfbf\">[20:50:34]</span>  <span style=\"color: #268bd2; text-decoration-color: #268bd2; font-weight: bold\">task</span> | <span style=\"color: #cb4b16; text-decoration-color: #cb4b16\">x</span>=30.0, <span style=\"color: #cb4b16; text-decoration-color: #cb4b16\">y</span>=10.0\n",
       "</pre>\n"
      ],
      "text/plain": [
       "\u001b[2;36m[\u001b[0m\u001b[2;36m20:50:34\u001b[0m\u001b[2;36m]\u001b[0m  \u001b[1;38;2;38;139;210mtask\u001b[0m | \u001b[38;2;203;75;22mx\u001b[0m=30.0, \u001b[38;2;203;75;22my\u001b[0m=10.0\n"
      ]
     },
     "metadata": {},
     "output_type": "display_data"
    },
    {
     "data": {
      "text/html": [
       "<pre style=\"white-space:pre;overflow-x:auto;line-height:normal;font-family:Menlo,'DejaVu Sans Mono',consolas,'Courier New',monospace\"><span style=\"color: #7fbfbf; text-decoration-color: #7fbfbf\">[20:50:34]</span>  <span style=\"color: #268bd2; text-decoration-color: #268bd2; font-weight: bold\">task</span> | <span style=\"color: #cb4b16; text-decoration-color: #cb4b16\">x</span>=30.0, <span style=\"color: #cb4b16; text-decoration-color: #cb4b16\">y</span>=100.0\n",
       "</pre>\n"
      ],
      "text/plain": [
       "\u001b[2;36m[\u001b[0m\u001b[2;36m20:50:34\u001b[0m\u001b[2;36m]\u001b[0m  \u001b[1;38;2;38;139;210mtask\u001b[0m | \u001b[38;2;203;75;22mx\u001b[0m=30.0, \u001b[38;2;203;75;22my\u001b[0m=100.0\n"
      ]
     },
     "metadata": {},
     "output_type": "display_data"
    },
    {
     "data": {
      "text/html": [
       "<pre style=\"white-space:pre;overflow-x:auto;line-height:normal;font-family:Menlo,'DejaVu Sans Mono',consolas,'Courier New',monospace\">\n",
       "</pre>\n"
      ],
      "text/plain": [
       "\n"
      ]
     },
     "metadata": {},
     "output_type": "display_data"
    },
    {
     "data": {
      "text/html": [
       "<pre style=\"white-space:pre;overflow-x:auto;line-height:normal;font-family:Menlo,'DejaVu Sans Mono',consolas,'Courier New',monospace\">File: dm/dm_2024-10-02_20:50:34.json\n",
       "</pre>\n"
      ],
      "text/plain": [
       "File: dm/dm_2024-10-02_20:50:34.json\n"
      ]
     },
     "metadata": {},
     "output_type": "display_data"
    }
   ],
   "source": [
    "dm.run_log(MyTask)"
   ]
  },
  {
   "cell_type": "markdown",
   "id": "9e8848ec-83d7-483d-9b6c-65cddf83f74f",
   "metadata": {},
   "source": [
    "### Zipped Loops\n",
    "\n",
    "If both loops should be run simultaneously they must have an equal `loop_level`."
   ]
  },
  {
   "cell_type": "code",
   "execution_count": 13,
   "id": "c140ff45-56a8-4822-be40-18d0211536ba",
   "metadata": {},
   "outputs": [],
   "source": [
    "class MyTask(fly.Task):\n",
    "    x = fly.loop_lin(20, 30, num=3, loop_level=1)\n",
    "    y = fly.loop_log(1, 100, num=3, loop_level=1)\n",
    "\n",
    "    def task(x, y): ..."
   ]
  },
  {
   "cell_type": "code",
   "execution_count": 14,
   "id": "ba30221f-931e-42fb-a137-67d428227418",
   "metadata": {},
   "outputs": [
    {
     "data": {
      "text/html": [
       "<pre style=\"white-space:pre;overflow-x:auto;line-height:normal;font-family:Menlo,'DejaVu Sans Mono',consolas,'Courier New',monospace\"><span style=\"color: #7fbfbf; text-decoration-color: #7fbfbf\">[20:50:36]</span>  <span style=\"color: #268bd2; text-decoration-color: #268bd2; font-weight: bold\">task</span> | <span style=\"color: #cb4b16; text-decoration-color: #cb4b16\">x</span>=20.0, <span style=\"color: #cb4b16; text-decoration-color: #cb4b16\">y</span>=1.0\n",
       "</pre>\n"
      ],
      "text/plain": [
       "\u001b[2;36m[\u001b[0m\u001b[2;36m20:50:36\u001b[0m\u001b[2;36m]\u001b[0m  \u001b[1;38;2;38;139;210mtask\u001b[0m | \u001b[38;2;203;75;22mx\u001b[0m=20.0, \u001b[38;2;203;75;22my\u001b[0m=1.0\n"
      ]
     },
     "metadata": {},
     "output_type": "display_data"
    },
    {
     "data": {
      "text/html": [
       "<pre style=\"white-space:pre;overflow-x:auto;line-height:normal;font-family:Menlo,'DejaVu Sans Mono',consolas,'Courier New',monospace\"><span style=\"color: #7fbfbf; text-decoration-color: #7fbfbf\">[20:50:36]</span>  <span style=\"color: #268bd2; text-decoration-color: #268bd2; font-weight: bold\">task</span> | <span style=\"color: #cb4b16; text-decoration-color: #cb4b16\">x</span>=25.0, <span style=\"color: #cb4b16; text-decoration-color: #cb4b16\">y</span>=10.0\n",
       "</pre>\n"
      ],
      "text/plain": [
       "\u001b[2;36m[\u001b[0m\u001b[2;36m20:50:36\u001b[0m\u001b[2;36m]\u001b[0m  \u001b[1;38;2;38;139;210mtask\u001b[0m | \u001b[38;2;203;75;22mx\u001b[0m=25.0, \u001b[38;2;203;75;22my\u001b[0m=10.0\n"
      ]
     },
     "metadata": {},
     "output_type": "display_data"
    },
    {
     "data": {
      "text/html": [
       "<pre style=\"white-space:pre;overflow-x:auto;line-height:normal;font-family:Menlo,'DejaVu Sans Mono',consolas,'Courier New',monospace\"><span style=\"color: #7fbfbf; text-decoration-color: #7fbfbf\">[20:50:36]</span>  <span style=\"color: #268bd2; text-decoration-color: #268bd2; font-weight: bold\">task</span> | <span style=\"color: #cb4b16; text-decoration-color: #cb4b16\">x</span>=30.0, <span style=\"color: #cb4b16; text-decoration-color: #cb4b16\">y</span>=100.0\n",
       "</pre>\n"
      ],
      "text/plain": [
       "\u001b[2;36m[\u001b[0m\u001b[2;36m20:50:36\u001b[0m\u001b[2;36m]\u001b[0m  \u001b[1;38;2;38;139;210mtask\u001b[0m | \u001b[38;2;203;75;22mx\u001b[0m=30.0, \u001b[38;2;203;75;22my\u001b[0m=100.0\n"
      ]
     },
     "metadata": {},
     "output_type": "display_data"
    },
    {
     "data": {
      "text/html": [
       "<pre style=\"white-space:pre;overflow-x:auto;line-height:normal;font-family:Menlo,'DejaVu Sans Mono',consolas,'Courier New',monospace\">\n",
       "</pre>\n"
      ],
      "text/plain": [
       "\n"
      ]
     },
     "metadata": {},
     "output_type": "display_data"
    },
    {
     "data": {
      "text/html": [
       "<pre style=\"white-space:pre;overflow-x:auto;line-height:normal;font-family:Menlo,'DejaVu Sans Mono',consolas,'Courier New',monospace\">File: dm/dm_2024-10-02_20:50:36.json\n",
       "</pre>\n"
      ],
      "text/plain": [
       "File: dm/dm_2024-10-02_20:50:36.json\n"
      ]
     },
     "metadata": {},
     "output_type": "display_data"
    }
   ],
   "source": [
    "dm.run_log(MyTask)"
   ]
  },
  {
   "cell_type": "markdown",
   "id": "189e5ead-2221-46aa-8fc5-ddd148fc4861",
   "metadata": {},
   "source": [
    "*Note:* In native python it's called `zip(loop_1, ...)`."
   ]
  },
  {
   "cell_type": "markdown",
   "id": "49551f67-d90f-4278-aaff-c41dbc7dfbd5",
   "metadata": {},
   "source": [
    "### Concatenated Loops\n",
    "\n",
    "Loops and single values can be concatenated just by `loop(...)`. An up-down sweep is done by"
   ]
  },
  {
   "cell_type": "code",
   "execution_count": 15,
   "id": "1dac20f5-a98d-438b-a8ee-3467f1f923d0",
   "metadata": {},
   "outputs": [],
   "source": [
    "class MyTask(fly.Task):\n",
    "    x = fly.loop(\n",
    "        2.5, \n",
    "        fly.loop_lin(3, 5), \n",
    "        5.5, \n",
    "        fly.loop_lin(5, 3), \n",
    "        2.5,\n",
    "    )\n",
    "\n",
    "    def task(x): ..."
   ]
  },
  {
   "cell_type": "code",
   "execution_count": 16,
   "id": "aeeee772-ee9f-4f00-89ee-f0dca0dce82d",
   "metadata": {},
   "outputs": [
    {
     "data": {
      "text/html": [
       "<pre style=\"white-space:pre;overflow-x:auto;line-height:normal;font-family:Menlo,'DejaVu Sans Mono',consolas,'Courier New',monospace\"><span style=\"color: #7fbfbf; text-decoration-color: #7fbfbf\">[20:50:38]</span>  <span style=\"color: #268bd2; text-decoration-color: #268bd2; font-weight: bold\">task</span> | <span style=\"color: #cb4b16; text-decoration-color: #cb4b16\">x</span>=2.5\n",
       "</pre>\n"
      ],
      "text/plain": [
       "\u001b[2;36m[\u001b[0m\u001b[2;36m20:50:38\u001b[0m\u001b[2;36m]\u001b[0m  \u001b[1;38;2;38;139;210mtask\u001b[0m | \u001b[38;2;203;75;22mx\u001b[0m=2.5\n"
      ]
     },
     "metadata": {},
     "output_type": "display_data"
    },
    {
     "data": {
      "text/html": [
       "<pre style=\"white-space:pre;overflow-x:auto;line-height:normal;font-family:Menlo,'DejaVu Sans Mono',consolas,'Courier New',monospace\"><span style=\"color: #7fbfbf; text-decoration-color: #7fbfbf\">[20:50:38]</span>  <span style=\"color: #268bd2; text-decoration-color: #268bd2; font-weight: bold\">task</span> | <span style=\"color: #cb4b16; text-decoration-color: #cb4b16\">x</span>=3\n",
       "</pre>\n"
      ],
      "text/plain": [
       "\u001b[2;36m[\u001b[0m\u001b[2;36m20:50:38\u001b[0m\u001b[2;36m]\u001b[0m  \u001b[1;38;2;38;139;210mtask\u001b[0m | \u001b[38;2;203;75;22mx\u001b[0m=3\n"
      ]
     },
     "metadata": {},
     "output_type": "display_data"
    },
    {
     "data": {
      "text/html": [
       "<pre style=\"white-space:pre;overflow-x:auto;line-height:normal;font-family:Menlo,'DejaVu Sans Mono',consolas,'Courier New',monospace\"><span style=\"color: #7fbfbf; text-decoration-color: #7fbfbf\">[20:50:38]</span>  <span style=\"color: #268bd2; text-decoration-color: #268bd2; font-weight: bold\">task</span> | <span style=\"color: #cb4b16; text-decoration-color: #cb4b16\">x</span>=4\n",
       "</pre>\n"
      ],
      "text/plain": [
       "\u001b[2;36m[\u001b[0m\u001b[2;36m20:50:38\u001b[0m\u001b[2;36m]\u001b[0m  \u001b[1;38;2;38;139;210mtask\u001b[0m | \u001b[38;2;203;75;22mx\u001b[0m=4\n"
      ]
     },
     "metadata": {},
     "output_type": "display_data"
    },
    {
     "data": {
      "text/html": [
       "<pre style=\"white-space:pre;overflow-x:auto;line-height:normal;font-family:Menlo,'DejaVu Sans Mono',consolas,'Courier New',monospace\"><span style=\"color: #7fbfbf; text-decoration-color: #7fbfbf\">[20:50:38]</span>  <span style=\"color: #268bd2; text-decoration-color: #268bd2; font-weight: bold\">task</span> | <span style=\"color: #cb4b16; text-decoration-color: #cb4b16\">x</span>=5\n",
       "</pre>\n"
      ],
      "text/plain": [
       "\u001b[2;36m[\u001b[0m\u001b[2;36m20:50:38\u001b[0m\u001b[2;36m]\u001b[0m  \u001b[1;38;2;38;139;210mtask\u001b[0m | \u001b[38;2;203;75;22mx\u001b[0m=5\n"
      ]
     },
     "metadata": {},
     "output_type": "display_data"
    },
    {
     "data": {
      "text/html": [
       "<pre style=\"white-space:pre;overflow-x:auto;line-height:normal;font-family:Menlo,'DejaVu Sans Mono',consolas,'Courier New',monospace\"><span style=\"color: #7fbfbf; text-decoration-color: #7fbfbf\">[20:50:38]</span>  <span style=\"color: #268bd2; text-decoration-color: #268bd2; font-weight: bold\">task</span> | <span style=\"color: #cb4b16; text-decoration-color: #cb4b16\">x</span>=5.5\n",
       "</pre>\n"
      ],
      "text/plain": [
       "\u001b[2;36m[\u001b[0m\u001b[2;36m20:50:38\u001b[0m\u001b[2;36m]\u001b[0m  \u001b[1;38;2;38;139;210mtask\u001b[0m | \u001b[38;2;203;75;22mx\u001b[0m=5.5\n"
      ]
     },
     "metadata": {},
     "output_type": "display_data"
    },
    {
     "data": {
      "text/html": [
       "<pre style=\"white-space:pre;overflow-x:auto;line-height:normal;font-family:Menlo,'DejaVu Sans Mono',consolas,'Courier New',monospace\"><span style=\"color: #7fbfbf; text-decoration-color: #7fbfbf\">[20:50:38]</span>  <span style=\"color: #268bd2; text-decoration-color: #268bd2; font-weight: bold\">task</span> | <span style=\"color: #cb4b16; text-decoration-color: #cb4b16\">x</span>=5\n",
       "</pre>\n"
      ],
      "text/plain": [
       "\u001b[2;36m[\u001b[0m\u001b[2;36m20:50:38\u001b[0m\u001b[2;36m]\u001b[0m  \u001b[1;38;2;38;139;210mtask\u001b[0m | \u001b[38;2;203;75;22mx\u001b[0m=5\n"
      ]
     },
     "metadata": {},
     "output_type": "display_data"
    },
    {
     "data": {
      "text/html": [
       "<pre style=\"white-space:pre;overflow-x:auto;line-height:normal;font-family:Menlo,'DejaVu Sans Mono',consolas,'Courier New',monospace\"><span style=\"color: #7fbfbf; text-decoration-color: #7fbfbf\">[20:50:38]</span>  <span style=\"color: #268bd2; text-decoration-color: #268bd2; font-weight: bold\">task</span> | <span style=\"color: #cb4b16; text-decoration-color: #cb4b16\">x</span>=4\n",
       "</pre>\n"
      ],
      "text/plain": [
       "\u001b[2;36m[\u001b[0m\u001b[2;36m20:50:38\u001b[0m\u001b[2;36m]\u001b[0m  \u001b[1;38;2;38;139;210mtask\u001b[0m | \u001b[38;2;203;75;22mx\u001b[0m=4\n"
      ]
     },
     "metadata": {},
     "output_type": "display_data"
    },
    {
     "data": {
      "text/html": [
       "<pre style=\"white-space:pre;overflow-x:auto;line-height:normal;font-family:Menlo,'DejaVu Sans Mono',consolas,'Courier New',monospace\"><span style=\"color: #7fbfbf; text-decoration-color: #7fbfbf\">[20:50:39]</span>  <span style=\"color: #268bd2; text-decoration-color: #268bd2; font-weight: bold\">task</span> | <span style=\"color: #cb4b16; text-decoration-color: #cb4b16\">x</span>=3\n",
       "</pre>\n"
      ],
      "text/plain": [
       "\u001b[2;36m[\u001b[0m\u001b[2;36m20:50:39\u001b[0m\u001b[2;36m]\u001b[0m  \u001b[1;38;2;38;139;210mtask\u001b[0m | \u001b[38;2;203;75;22mx\u001b[0m=3\n"
      ]
     },
     "metadata": {},
     "output_type": "display_data"
    },
    {
     "data": {
      "text/html": [
       "<pre style=\"white-space:pre;overflow-x:auto;line-height:normal;font-family:Menlo,'DejaVu Sans Mono',consolas,'Courier New',monospace\"><span style=\"color: #7fbfbf; text-decoration-color: #7fbfbf\">[20:50:39]</span>  <span style=\"color: #268bd2; text-decoration-color: #268bd2; font-weight: bold\">task</span> | <span style=\"color: #cb4b16; text-decoration-color: #cb4b16\">x</span>=2.5\n",
       "</pre>\n"
      ],
      "text/plain": [
       "\u001b[2;36m[\u001b[0m\u001b[2;36m20:50:39\u001b[0m\u001b[2;36m]\u001b[0m  \u001b[1;38;2;38;139;210mtask\u001b[0m | \u001b[38;2;203;75;22mx\u001b[0m=2.5\n"
      ]
     },
     "metadata": {},
     "output_type": "display_data"
    },
    {
     "data": {
      "text/html": [
       "<pre style=\"white-space:pre;overflow-x:auto;line-height:normal;font-family:Menlo,'DejaVu Sans Mono',consolas,'Courier New',monospace\">\n",
       "</pre>\n"
      ],
      "text/plain": [
       "\n"
      ]
     },
     "metadata": {},
     "output_type": "display_data"
    },
    {
     "data": {
      "text/html": [
       "<pre style=\"white-space:pre;overflow-x:auto;line-height:normal;font-family:Menlo,'DejaVu Sans Mono',consolas,'Courier New',monospace\">File: dm/dm_2024-10-02_20:50:38.json\n",
       "</pre>\n"
      ],
      "text/plain": [
       "File: dm/dm_2024-10-02_20:50:38.json\n"
      ]
     },
     "metadata": {},
     "output_type": "display_data"
    }
   ],
   "source": [
    "dm.run_log(MyTask)"
   ]
  },
  {
   "attachments": {},
   "cell_type": "markdown",
   "id": "683103ce-dcbc-45ae-882b-ec8a516fa08a",
   "metadata": {},
   "source": [
    "## DataManager\n",
    "\n",
    "So far, we have looped the function arguments in different ways. Now we want to produce real data - the return values of the functions. As an example, we will square the numbers from 2 to 5."
   ]
  },
  {
   "cell_type": "code",
   "execution_count": 17,
   "id": "9ba245c3-715b-4810-84b5-5f83974bd564",
   "metadata": {},
   "outputs": [],
   "source": [
    "class Square(fly.Task):\n",
    "    power = 2\n",
    "    base = fly.loop_lin(2, 5, step=1)\n",
    "    \n",
    "    def __return__(base, power):\n",
    "        return base**power"
   ]
  },
  {
   "cell_type": "code",
   "execution_count": 18,
   "id": "e71cb883-c991-431b-bf98-8c4b22e2b317",
   "metadata": {},
   "outputs": [
    {
     "data": {
      "text/html": [
       "<pre style=\"white-space:pre;overflow-x:auto;line-height:normal;font-family:Menlo,'DejaVu Sans Mono',consolas,'Courier New',monospace\"><span style=\"color: #7fbfbf; text-decoration-color: #7fbfbf\">[20:50:40]</span>  <span style=\"color: #268bd2; text-decoration-color: #268bd2; font-weight: bold\">Square</span> | <span style=\"color: #cb4b16; text-decoration-color: #cb4b16\">base</span>=2\n",
       "</pre>\n"
      ],
      "text/plain": [
       "\u001b[2;36m[\u001b[0m\u001b[2;36m20:50:40\u001b[0m\u001b[2;36m]\u001b[0m  \u001b[1;38;2;38;139;210mSquare\u001b[0m | \u001b[38;2;203;75;22mbase\u001b[0m=2\n"
      ]
     },
     "metadata": {},
     "output_type": "display_data"
    },
    {
     "data": {
      "text/html": [
       "<pre style=\"white-space:pre;overflow-x:auto;line-height:normal;font-family:Menlo,'DejaVu Sans Mono',consolas,'Courier New',monospace\"><span style=\"color: #7fbfbf; text-decoration-color: #7fbfbf; font-weight: bold\">[</span><span style=\"color: #7fbfbf; text-decoration-color: #7fbfbf\">20:50:40</span><span style=\"color: #7fbfbf; text-decoration-color: #7fbfbf; font-weight: bold\">]</span>      = 4\n",
       "</pre>\n"
      ],
      "text/plain": [
       "\u001b[1;2;36m[\u001b[0m\u001b[2;36m20:50:40\u001b[0m\u001b[1;2;36m]\u001b[0m      = 4\n"
      ]
     },
     "metadata": {},
     "output_type": "display_data"
    },
    {
     "data": {
      "text/html": [
       "<pre style=\"white-space:pre;overflow-x:auto;line-height:normal;font-family:Menlo,'DejaVu Sans Mono',consolas,'Courier New',monospace\"><span style=\"color: #7fbfbf; text-decoration-color: #7fbfbf\">[20:50:40]</span>  <span style=\"color: #268bd2; text-decoration-color: #268bd2; font-weight: bold\">Square</span> | <span style=\"color: #cb4b16; text-decoration-color: #cb4b16\">base</span>=3\n",
       "</pre>\n"
      ],
      "text/plain": [
       "\u001b[2;36m[\u001b[0m\u001b[2;36m20:50:40\u001b[0m\u001b[2;36m]\u001b[0m  \u001b[1;38;2;38;139;210mSquare\u001b[0m | \u001b[38;2;203;75;22mbase\u001b[0m=3\n"
      ]
     },
     "metadata": {},
     "output_type": "display_data"
    },
    {
     "data": {
      "text/html": [
       "<pre style=\"white-space:pre;overflow-x:auto;line-height:normal;font-family:Menlo,'DejaVu Sans Mono',consolas,'Courier New',monospace\"><span style=\"color: #7fbfbf; text-decoration-color: #7fbfbf; font-weight: bold\">[</span><span style=\"color: #7fbfbf; text-decoration-color: #7fbfbf\">20:50:40</span><span style=\"color: #7fbfbf; text-decoration-color: #7fbfbf; font-weight: bold\">]</span>      = 9\n",
       "</pre>\n"
      ],
      "text/plain": [
       "\u001b[1;2;36m[\u001b[0m\u001b[2;36m20:50:40\u001b[0m\u001b[1;2;36m]\u001b[0m      = 9\n"
      ]
     },
     "metadata": {},
     "output_type": "display_data"
    },
    {
     "data": {
      "text/html": [
       "<pre style=\"white-space:pre;overflow-x:auto;line-height:normal;font-family:Menlo,'DejaVu Sans Mono',consolas,'Courier New',monospace\"><span style=\"color: #7fbfbf; text-decoration-color: #7fbfbf\">[20:50:40]</span>  <span style=\"color: #268bd2; text-decoration-color: #268bd2; font-weight: bold\">Square</span> | <span style=\"color: #cb4b16; text-decoration-color: #cb4b16\">base</span>=4\n",
       "</pre>\n"
      ],
      "text/plain": [
       "\u001b[2;36m[\u001b[0m\u001b[2;36m20:50:40\u001b[0m\u001b[2;36m]\u001b[0m  \u001b[1;38;2;38;139;210mSquare\u001b[0m | \u001b[38;2;203;75;22mbase\u001b[0m=4\n"
      ]
     },
     "metadata": {},
     "output_type": "display_data"
    },
    {
     "data": {
      "text/html": [
       "<pre style=\"white-space:pre;overflow-x:auto;line-height:normal;font-family:Menlo,'DejaVu Sans Mono',consolas,'Courier New',monospace\"><span style=\"color: #7fbfbf; text-decoration-color: #7fbfbf; font-weight: bold\">[</span><span style=\"color: #7fbfbf; text-decoration-color: #7fbfbf\">20:50:40</span><span style=\"color: #7fbfbf; text-decoration-color: #7fbfbf; font-weight: bold\">]</span>      = 16\n",
       "</pre>\n"
      ],
      "text/plain": [
       "\u001b[1;2;36m[\u001b[0m\u001b[2;36m20:50:40\u001b[0m\u001b[1;2;36m]\u001b[0m      = 16\n"
      ]
     },
     "metadata": {},
     "output_type": "display_data"
    },
    {
     "data": {
      "text/html": [
       "<pre style=\"white-space:pre;overflow-x:auto;line-height:normal;font-family:Menlo,'DejaVu Sans Mono',consolas,'Courier New',monospace\"><span style=\"color: #7fbfbf; text-decoration-color: #7fbfbf\">[20:50:40]</span>  <span style=\"color: #268bd2; text-decoration-color: #268bd2; font-weight: bold\">Square</span> | <span style=\"color: #cb4b16; text-decoration-color: #cb4b16\">base</span>=5\n",
       "</pre>\n"
      ],
      "text/plain": [
       "\u001b[2;36m[\u001b[0m\u001b[2;36m20:50:40\u001b[0m\u001b[2;36m]\u001b[0m  \u001b[1;38;2;38;139;210mSquare\u001b[0m | \u001b[38;2;203;75;22mbase\u001b[0m=5\n"
      ]
     },
     "metadata": {},
     "output_type": "display_data"
    },
    {
     "data": {
      "text/html": [
       "<pre style=\"white-space:pre;overflow-x:auto;line-height:normal;font-family:Menlo,'DejaVu Sans Mono',consolas,'Courier New',monospace\"><span style=\"color: #7fbfbf; text-decoration-color: #7fbfbf; font-weight: bold\">[</span><span style=\"color: #7fbfbf; text-decoration-color: #7fbfbf\">20:50:40</span><span style=\"color: #7fbfbf; text-decoration-color: #7fbfbf; font-weight: bold\">]</span>      = 25\n",
       "</pre>\n"
      ],
      "text/plain": [
       "\u001b[1;2;36m[\u001b[0m\u001b[2;36m20:50:40\u001b[0m\u001b[1;2;36m]\u001b[0m      = 25\n"
      ]
     },
     "metadata": {},
     "output_type": "display_data"
    },
    {
     "data": {
      "text/html": [
       "<pre style=\"white-space:pre;overflow-x:auto;line-height:normal;font-family:Menlo,'DejaVu Sans Mono',consolas,'Courier New',monospace\">\n",
       "</pre>\n"
      ],
      "text/plain": [
       "\n"
      ]
     },
     "metadata": {},
     "output_type": "display_data"
    },
    {
     "data": {
      "text/html": [
       "<pre style=\"white-space:pre;overflow-x:auto;line-height:normal;font-family:Menlo,'DejaVu Sans Mono',consolas,'Courier New',monospace\">File: dm/dm_2024-10-02_20:50:40.json\n",
       "</pre>\n"
      ],
      "text/plain": [
       "File: dm/dm_2024-10-02_20:50:40.json\n"
      ]
     },
     "metadata": {},
     "output_type": "display_data"
    }
   ],
   "source": [
    "dm.run_log(Square)"
   ]
  },
  {
   "cell_type": "markdown",
   "id": "bdc5988f-7ee1-4461-99f5-12c902fe22de",
   "metadata": {},
   "source": [
    "The function results can be read either as a tabel (pandas.DataFrame) or as a raw time-list."
   ]
  },
  {
   "cell_type": "markdown",
   "id": "4583d4eb-008d-4f0b-9de0-8d30be1da9e1",
   "metadata": {},
   "source": [
    "### DataFrame Table\n",
    "\n",
    "In order to show the return values of `Square.__return__` with its arguments just type:"
   ]
  },
  {
   "cell_type": "code",
   "execution_count": 19,
   "id": "f715a751-d621-4db3-8491-30c74e8736b5",
   "metadata": {},
   "outputs": [
    {
     "data": {
      "text/html": [
       "<div>\n",
       "<style scoped>\n",
       "    .dataframe tbody tr th:only-of-type {\n",
       "        vertical-align: middle;\n",
       "    }\n",
       "\n",
       "    .dataframe tbody tr th {\n",
       "        vertical-align: top;\n",
       "    }\n",
       "\n",
       "    .dataframe thead th {\n",
       "        text-align: right;\n",
       "    }\n",
       "</style>\n",
       "<table border=\"1\" class=\"dataframe\">\n",
       "  <thead>\n",
       "    <tr style=\"text-align: right;\">\n",
       "      <th></th>\n",
       "      <th>power</th>\n",
       "      <th>__return__</th>\n",
       "    </tr>\n",
       "    <tr>\n",
       "      <th>base</th>\n",
       "      <th></th>\n",
       "      <th></th>\n",
       "    </tr>\n",
       "  </thead>\n",
       "  <tbody>\n",
       "    <tr>\n",
       "      <th>2</th>\n",
       "      <td>2</td>\n",
       "      <td>4</td>\n",
       "    </tr>\n",
       "    <tr>\n",
       "      <th>3</th>\n",
       "      <td>2</td>\n",
       "      <td>9</td>\n",
       "    </tr>\n",
       "    <tr>\n",
       "      <th>4</th>\n",
       "      <td>2</td>\n",
       "      <td>16</td>\n",
       "    </tr>\n",
       "    <tr>\n",
       "      <th>5</th>\n",
       "      <td>2</td>\n",
       "      <td>25</td>\n",
       "    </tr>\n",
       "  </tbody>\n",
       "</table>\n",
       "</div>"
      ],
      "text/plain": [
       "      power  __return__\n",
       "base                   \n",
       "2         2           4\n",
       "3         2           9\n",
       "4         2          16\n",
       "5         2          25"
      ]
     },
     "execution_count": 19,
     "metadata": {},
     "output_type": "execute_result"
    }
   ],
   "source": [
    "dm.read_task(Square)"
   ]
  },
  {
   "cell_type": "markdown",
   "id": "eefc2622-fcf7-4c5d-bdc9-ed3cafd547ec",
   "metadata": {},
   "source": [
    "*Note:* The loops are set as the table-index."
   ]
  },
  {
   "cell_type": "markdown",
   "id": "3eb8c85e-109b-4661-8f43-5b9b820f6d34",
   "metadata": {},
   "source": [
    "### Raw Time-Signal"
   ]
  },
  {
   "cell_type": "markdown",
   "id": "f22a2289-3fa5-41e0-897a-23d5a8ce9c41",
   "metadata": {},
   "source": [
    "The DataManager is basically a large python dictionary storing the arising data during the task-run. In order to save the function values as a **time-signal** the DataManager needs two additional information:\n",
    "* An **unique name** of the function/variable and\n",
    "* the value of a **counter** which is increased everytime a function value is stored. The counter values are mapped to timestamps."
   ]
  },
  {
   "cell_type": "code",
   "execution_count": 20,
   "id": "8828d867-3d96-4ddb-918a-d665eb98a29e",
   "metadata": {},
   "outputs": [
    {
     "data": {
      "text/plain": [
       "['Square',\n",
       " 'Square.power',\n",
       " 'Square.base',\n",
       " 'Square.base.start',\n",
       " 'Square.base.stop',\n",
       " 'Square.base.step']"
      ]
     },
     "execution_count": 20,
     "metadata": {},
     "output_type": "execute_result"
    }
   ],
   "source": [
    "dm.read_namespace(Square)"
   ]
  },
  {
   "cell_type": "code",
   "execution_count": 21,
   "id": "dab2445a-221b-422c-b496-88a7d175fca6",
   "metadata": {},
   "outputs": [
    {
     "data": {
      "text/plain": [
       "([24, 38, 52, 66], [2, 3, 4, 5])"
      ]
     },
     "execution_count": 21,
     "metadata": {},
     "output_type": "execute_result"
    }
   ],
   "source": [
    "dm.read_raw('Square.base')"
   ]
  },
  {
   "cell_type": "code",
   "execution_count": 22,
   "id": "afab1949-e159-46bc-8aa4-5c4c357c0a3d",
   "metadata": {},
   "outputs": [
    {
     "data": {
      "text/plain": [
       "([27, 40, 54, 68], [4, 9, 16, 25])"
      ]
     },
     "execution_count": 22,
     "metadata": {},
     "output_type": "execute_result"
    }
   ],
   "source": [
    "dm.read_raw('Square')"
   ]
  },
  {
   "cell_type": "markdown",
   "id": "f3da2856-3661-4b5d-82e3-523cf80c5e4d",
   "metadata": {},
   "source": [
    "The first list stores the current counter value at the moment of writting. The actual loop-values of `Square.base` are stored in the second list.\n",
    "\n",
    "The counter is mapped to timestamps. For example we can extract the time difference between the last and first value of `Square.base` loop"
   ]
  },
  {
   "cell_type": "code",
   "execution_count": 23,
   "id": "2ef64dff-8c18-4c63-a074-b90f5ff1206f",
   "metadata": {},
   "outputs": [
    {
     "data": {
      "text/plain": [
       "Timedelta('0 days 00:00:00.022462')"
      ]
     },
     "execution_count": 23,
     "metadata": {},
     "output_type": "execute_result"
    }
   ],
   "source": [
    "dm._times[66] - dm._times[24]"
   ]
  },
  {
   "cell_type": "markdown",
   "id": "1dda1635-956b-4143-a450-1ffe8cc5ce0a",
   "metadata": {},
   "source": [
    "After each run the DataManager saves the complete data dictionary (loop states, function results, required configuration inputs, ...) and some metadata in a json file."
   ]
  },
  {
   "cell_type": "code",
   "execution_count": 24,
   "id": "bda5db69-ef49-4e64-8c27-ddc4a5929d69",
   "metadata": {},
   "outputs": [
    {
     "name": "stdout",
     "output_type": "stream",
     "text": [
      "{\"_cnt\": 74,\n",
      " \"_info\": {\n",
      "     \"timezone\": \"America/Asuncion\",\n",
      "     \"network\": \"5c:80:b6:2e:a5:18\",\n",
      "     \"arch\": \"x86_64\",\n",
      "     \"hostname\": \"latitude\",\n",
      "     \"system\": \"Linux\",\n",
      "     \"version\": \"#40~22.04.3-Ubuntu SMP PREEMPT_DYNAMIC Tue Jul 30 17:30:19 UTC 2\",\n",
      "     \"release\": \"6.8.0-40-generic\",\n",
      "     \"python\": \"3.10.12 (main, Sep 11 2024, 15:47:36) [GCC 11.4.0]\"},\n",
      " \"Square\": {\n",
      "     \"cnts\": [27, 40, 54, 68],\n",
      "     \"vals\": [4, 9, 16, 25]},\n",
      " \"Square.base\": {\n",
      "     \"cnts\": [24, 38, 52, 66],\n",
      "     \"vals\": [2, 3, 4, 5]},\n"
     ]
    }
   ],
   "source": [
    "%head -n 16 dm/dm_2024-10-02_20\\:50\\:40.json"
   ]
  },
  {
   "cell_type": "markdown",
   "id": "2b21ecda-0c00-4db8-9021-689ced8ea7c1",
   "metadata": {},
   "source": [
    "As a consequence of the data-layout it is possible to\n",
    "* continue an interrupted run (the loop-states are saved)\n",
    "* use the data for post-processing tasks (`FLooPy.Task`)\n",
    "\n",
    "*Note:* Even if it's possible to basically show both features they must be further tested and developed."
   ]
  },
  {
   "cell_type": "markdown",
   "id": "df9ae2c1-3eae-45b4-8c86-b8ec430f938d",
   "metadata": {},
   "source": [
    "## Subclassing\n",
    "\n",
    "Since tasks are classes they can be subclassed from ohter task-classes. For example assume we want to have a task for calculating the square-root by overwritting ´base=1/2´ from the `Square` task."
   ]
  },
  {
   "cell_type": "code",
   "execution_count": 25,
   "id": "4de8b762-2116-400b-9fdf-dac4f4bd9b0e",
   "metadata": {},
   "outputs": [],
   "source": [
    "class SqRoot(Square):\n",
    "    power = 1/2"
   ]
  },
  {
   "cell_type": "code",
   "execution_count": 26,
   "id": "c4864424-ea8b-4ec0-ac47-4de875d8ead2",
   "metadata": {},
   "outputs": [
    {
     "data": {
      "text/html": [
       "<pre style=\"white-space:pre;overflow-x:auto;line-height:normal;font-family:Menlo,'DejaVu Sans Mono',consolas,'Courier New',monospace\"><span style=\"color: #7fbfbf; text-decoration-color: #7fbfbf\">[20:51:41]</span>  <span style=\"color: #268bd2; text-decoration-color: #268bd2; font-weight: bold\">SqRoot</span> | <span style=\"color: #cb4b16; text-decoration-color: #cb4b16\">base</span>=2\n",
       "</pre>\n"
      ],
      "text/plain": [
       "\u001b[2;36m[\u001b[0m\u001b[2;36m20:51:41\u001b[0m\u001b[2;36m]\u001b[0m  \u001b[1;38;2;38;139;210mSqRoot\u001b[0m | \u001b[38;2;203;75;22mbase\u001b[0m=2\n"
      ]
     },
     "metadata": {},
     "output_type": "display_data"
    },
    {
     "data": {
      "text/html": [
       "<pre style=\"white-space:pre;overflow-x:auto;line-height:normal;font-family:Menlo,'DejaVu Sans Mono',consolas,'Courier New',monospace\"><span style=\"color: #7fbfbf; text-decoration-color: #7fbfbf; font-weight: bold\">[</span><span style=\"color: #7fbfbf; text-decoration-color: #7fbfbf\">20:51:41</span><span style=\"color: #7fbfbf; text-decoration-color: #7fbfbf; font-weight: bold\">]</span>      = 1.4142135623730951\n",
       "</pre>\n"
      ],
      "text/plain": [
       "\u001b[1;2;36m[\u001b[0m\u001b[2;36m20:51:41\u001b[0m\u001b[1;2;36m]\u001b[0m      = 1.4142135623730951\n"
      ]
     },
     "metadata": {},
     "output_type": "display_data"
    },
    {
     "data": {
      "text/html": [
       "<pre style=\"white-space:pre;overflow-x:auto;line-height:normal;font-family:Menlo,'DejaVu Sans Mono',consolas,'Courier New',monospace\"><span style=\"color: #7fbfbf; text-decoration-color: #7fbfbf\">[20:51:41]</span>  <span style=\"color: #268bd2; text-decoration-color: #268bd2; font-weight: bold\">SqRoot</span> | <span style=\"color: #cb4b16; text-decoration-color: #cb4b16\">base</span>=3\n",
       "</pre>\n"
      ],
      "text/plain": [
       "\u001b[2;36m[\u001b[0m\u001b[2;36m20:51:41\u001b[0m\u001b[2;36m]\u001b[0m  \u001b[1;38;2;38;139;210mSqRoot\u001b[0m | \u001b[38;2;203;75;22mbase\u001b[0m=3\n"
      ]
     },
     "metadata": {},
     "output_type": "display_data"
    },
    {
     "data": {
      "text/html": [
       "<pre style=\"white-space:pre;overflow-x:auto;line-height:normal;font-family:Menlo,'DejaVu Sans Mono',consolas,'Courier New',monospace\"><span style=\"color: #7fbfbf; text-decoration-color: #7fbfbf; font-weight: bold\">[</span><span style=\"color: #7fbfbf; text-decoration-color: #7fbfbf\">20:51:41</span><span style=\"color: #7fbfbf; text-decoration-color: #7fbfbf; font-weight: bold\">]</span>      = 1.7320508075688772\n",
       "</pre>\n"
      ],
      "text/plain": [
       "\u001b[1;2;36m[\u001b[0m\u001b[2;36m20:51:41\u001b[0m\u001b[1;2;36m]\u001b[0m      = 1.7320508075688772\n"
      ]
     },
     "metadata": {},
     "output_type": "display_data"
    },
    {
     "data": {
      "text/html": [
       "<pre style=\"white-space:pre;overflow-x:auto;line-height:normal;font-family:Menlo,'DejaVu Sans Mono',consolas,'Courier New',monospace\"><span style=\"color: #7fbfbf; text-decoration-color: #7fbfbf\">[20:51:41]</span>  <span style=\"color: #268bd2; text-decoration-color: #268bd2; font-weight: bold\">SqRoot</span> | <span style=\"color: #cb4b16; text-decoration-color: #cb4b16\">base</span>=4\n",
       "</pre>\n"
      ],
      "text/plain": [
       "\u001b[2;36m[\u001b[0m\u001b[2;36m20:51:41\u001b[0m\u001b[2;36m]\u001b[0m  \u001b[1;38;2;38;139;210mSqRoot\u001b[0m | \u001b[38;2;203;75;22mbase\u001b[0m=4\n"
      ]
     },
     "metadata": {},
     "output_type": "display_data"
    },
    {
     "data": {
      "text/html": [
       "<pre style=\"white-space:pre;overflow-x:auto;line-height:normal;font-family:Menlo,'DejaVu Sans Mono',consolas,'Courier New',monospace\"><span style=\"color: #7fbfbf; text-decoration-color: #7fbfbf; font-weight: bold\">[</span><span style=\"color: #7fbfbf; text-decoration-color: #7fbfbf\">20:51:41</span><span style=\"color: #7fbfbf; text-decoration-color: #7fbfbf; font-weight: bold\">]</span>      = 2.0\n",
       "</pre>\n"
      ],
      "text/plain": [
       "\u001b[1;2;36m[\u001b[0m\u001b[2;36m20:51:41\u001b[0m\u001b[1;2;36m]\u001b[0m      = 2.0\n"
      ]
     },
     "metadata": {},
     "output_type": "display_data"
    },
    {
     "data": {
      "text/html": [
       "<pre style=\"white-space:pre;overflow-x:auto;line-height:normal;font-family:Menlo,'DejaVu Sans Mono',consolas,'Courier New',monospace\"><span style=\"color: #7fbfbf; text-decoration-color: #7fbfbf\">[20:51:41]</span>  <span style=\"color: #268bd2; text-decoration-color: #268bd2; font-weight: bold\">SqRoot</span> | <span style=\"color: #cb4b16; text-decoration-color: #cb4b16\">base</span>=5\n",
       "</pre>\n"
      ],
      "text/plain": [
       "\u001b[2;36m[\u001b[0m\u001b[2;36m20:51:41\u001b[0m\u001b[2;36m]\u001b[0m  \u001b[1;38;2;38;139;210mSqRoot\u001b[0m | \u001b[38;2;203;75;22mbase\u001b[0m=5\n"
      ]
     },
     "metadata": {},
     "output_type": "display_data"
    },
    {
     "data": {
      "text/html": [
       "<pre style=\"white-space:pre;overflow-x:auto;line-height:normal;font-family:Menlo,'DejaVu Sans Mono',consolas,'Courier New',monospace\"><span style=\"color: #7fbfbf; text-decoration-color: #7fbfbf; font-weight: bold\">[</span><span style=\"color: #7fbfbf; text-decoration-color: #7fbfbf\">20:51:41</span><span style=\"color: #7fbfbf; text-decoration-color: #7fbfbf; font-weight: bold\">]</span>      = 2.23606797749979\n",
       "</pre>\n"
      ],
      "text/plain": [
       "\u001b[1;2;36m[\u001b[0m\u001b[2;36m20:51:41\u001b[0m\u001b[1;2;36m]\u001b[0m      = 2.23606797749979\n"
      ]
     },
     "metadata": {},
     "output_type": "display_data"
    },
    {
     "data": {
      "text/html": [
       "<pre style=\"white-space:pre;overflow-x:auto;line-height:normal;font-family:Menlo,'DejaVu Sans Mono',consolas,'Courier New',monospace\">\n",
       "</pre>\n"
      ],
      "text/plain": [
       "\n"
      ]
     },
     "metadata": {},
     "output_type": "display_data"
    },
    {
     "data": {
      "text/html": [
       "<pre style=\"white-space:pre;overflow-x:auto;line-height:normal;font-family:Menlo,'DejaVu Sans Mono',consolas,'Courier New',monospace\">File: dm/dm_2024-10-02_20:51:41_SqRoot.json\n",
       "</pre>\n"
      ],
      "text/plain": [
       "File: dm/dm_2024-10-02_20:51:41_SqRoot.json\n"
      ]
     },
     "metadata": {},
     "output_type": "display_data"
    }
   ],
   "source": [
    "dm.run_log(SqRoot)"
   ]
  },
  {
   "cell_type": "markdown",
   "id": "ad733568-42d2-4dba-9840-dd00b8df6fc1",
   "metadata": {},
   "source": [
    "## Composing Sub-Tasks with Inputs\n",
    "\n",
    "Tasks can be reused in other tasks building the *big picture* step-by-step. Therefore we need tasks to have inputs. We will demonstrate this by creating a general `Power` task which can be used either for calculating the square or square-root value."
   ]
  },
  {
   "cell_type": "code",
   "execution_count": 27,
   "id": "b0136c0a-c8b6-49ef-aa72-d23d87c87009",
   "metadata": {},
   "outputs": [],
   "source": [
    "class Power(fly.Task):\n",
    "    base = fly.Input()\n",
    "    power = fly.Input(default=1)\n",
    "                    \n",
    "    def __return__(base, power):\n",
    "        return base**power\n",
    "\n",
    "\n",
    "class SquareRoot(fly.Task):\n",
    "    x = fly.loop(2, 3, 4)\n",
    "\n",
    "    task_square = Power(x, 2)\n",
    "\n",
    "    task_root = Power(x, 1/2)"
   ]
  },
  {
   "cell_type": "code",
   "execution_count": 28,
   "id": "60911149-4c42-43d0-9a07-5971f29b351e",
   "metadata": {},
   "outputs": [
    {
     "data": {
      "text/html": [
       "<pre style=\"white-space:pre;overflow-x:auto;line-height:normal;font-family:Menlo,'DejaVu Sans Mono',consolas,'Courier New',monospace\"><span style=\"color: #7fbfbf; text-decoration-color: #7fbfbf\">[20:51:45]</span>  <span style=\"color: #268bd2; text-decoration-color: #268bd2; font-weight: bold\">task_square</span> | <span style=\"color: #cb4b16; text-decoration-color: #cb4b16\">x</span>=2\n",
       "</pre>\n"
      ],
      "text/plain": [
       "\u001b[2;36m[\u001b[0m\u001b[2;36m20:51:45\u001b[0m\u001b[2;36m]\u001b[0m  \u001b[1;38;2;38;139;210mtask_square\u001b[0m | \u001b[38;2;203;75;22mx\u001b[0m=2\n"
      ]
     },
     "metadata": {},
     "output_type": "display_data"
    },
    {
     "data": {
      "text/html": [
       "<pre style=\"white-space:pre;overflow-x:auto;line-height:normal;font-family:Menlo,'DejaVu Sans Mono',consolas,'Courier New',monospace\"><span style=\"color: #7fbfbf; text-decoration-color: #7fbfbf; font-weight: bold\">[</span><span style=\"color: #7fbfbf; text-decoration-color: #7fbfbf\">20:51:45</span><span style=\"color: #7fbfbf; text-decoration-color: #7fbfbf; font-weight: bold\">]</span>      = 4\n",
       "</pre>\n"
      ],
      "text/plain": [
       "\u001b[1;2;36m[\u001b[0m\u001b[2;36m20:51:45\u001b[0m\u001b[1;2;36m]\u001b[0m      = 4\n"
      ]
     },
     "metadata": {},
     "output_type": "display_data"
    },
    {
     "data": {
      "text/html": [
       "<pre style=\"white-space:pre;overflow-x:auto;line-height:normal;font-family:Menlo,'DejaVu Sans Mono',consolas,'Courier New',monospace\"><span style=\"color: #7fbfbf; text-decoration-color: #7fbfbf\">[20:51:45]</span>  <span style=\"color: #268bd2; text-decoration-color: #268bd2; font-weight: bold\">task_root</span> | <span style=\"color: #cb4b16; text-decoration-color: #cb4b16\">x</span>=2\n",
       "</pre>\n"
      ],
      "text/plain": [
       "\u001b[2;36m[\u001b[0m\u001b[2;36m20:51:45\u001b[0m\u001b[2;36m]\u001b[0m  \u001b[1;38;2;38;139;210mtask_root\u001b[0m | \u001b[38;2;203;75;22mx\u001b[0m=2\n"
      ]
     },
     "metadata": {},
     "output_type": "display_data"
    },
    {
     "data": {
      "text/html": [
       "<pre style=\"white-space:pre;overflow-x:auto;line-height:normal;font-family:Menlo,'DejaVu Sans Mono',consolas,'Courier New',monospace\"><span style=\"color: #7fbfbf; text-decoration-color: #7fbfbf; font-weight: bold\">[</span><span style=\"color: #7fbfbf; text-decoration-color: #7fbfbf\">20:51:45</span><span style=\"color: #7fbfbf; text-decoration-color: #7fbfbf; font-weight: bold\">]</span>      = 1.4142135623730951\n",
       "</pre>\n"
      ],
      "text/plain": [
       "\u001b[1;2;36m[\u001b[0m\u001b[2;36m20:51:45\u001b[0m\u001b[1;2;36m]\u001b[0m      = 1.4142135623730951\n"
      ]
     },
     "metadata": {},
     "output_type": "display_data"
    },
    {
     "data": {
      "text/html": [
       "<pre style=\"white-space:pre;overflow-x:auto;line-height:normal;font-family:Menlo,'DejaVu Sans Mono',consolas,'Courier New',monospace\"><span style=\"color: #7fbfbf; text-decoration-color: #7fbfbf\">[20:51:45]</span>  <span style=\"color: #268bd2; text-decoration-color: #268bd2; font-weight: bold\">task_square</span> | <span style=\"color: #cb4b16; text-decoration-color: #cb4b16\">x</span>=3\n",
       "</pre>\n"
      ],
      "text/plain": [
       "\u001b[2;36m[\u001b[0m\u001b[2;36m20:51:45\u001b[0m\u001b[2;36m]\u001b[0m  \u001b[1;38;2;38;139;210mtask_square\u001b[0m | \u001b[38;2;203;75;22mx\u001b[0m=3\n"
      ]
     },
     "metadata": {},
     "output_type": "display_data"
    },
    {
     "data": {
      "text/html": [
       "<pre style=\"white-space:pre;overflow-x:auto;line-height:normal;font-family:Menlo,'DejaVu Sans Mono',consolas,'Courier New',monospace\"><span style=\"color: #7fbfbf; text-decoration-color: #7fbfbf; font-weight: bold\">[</span><span style=\"color: #7fbfbf; text-decoration-color: #7fbfbf\">20:51:45</span><span style=\"color: #7fbfbf; text-decoration-color: #7fbfbf; font-weight: bold\">]</span>      = 9\n",
       "</pre>\n"
      ],
      "text/plain": [
       "\u001b[1;2;36m[\u001b[0m\u001b[2;36m20:51:45\u001b[0m\u001b[1;2;36m]\u001b[0m      = 9\n"
      ]
     },
     "metadata": {},
     "output_type": "display_data"
    },
    {
     "data": {
      "text/html": [
       "<pre style=\"white-space:pre;overflow-x:auto;line-height:normal;font-family:Menlo,'DejaVu Sans Mono',consolas,'Courier New',monospace\"><span style=\"color: #7fbfbf; text-decoration-color: #7fbfbf\">[20:51:45]</span>  <span style=\"color: #268bd2; text-decoration-color: #268bd2; font-weight: bold\">task_root</span> | <span style=\"color: #cb4b16; text-decoration-color: #cb4b16\">x</span>=3\n",
       "</pre>\n"
      ],
      "text/plain": [
       "\u001b[2;36m[\u001b[0m\u001b[2;36m20:51:45\u001b[0m\u001b[2;36m]\u001b[0m  \u001b[1;38;2;38;139;210mtask_root\u001b[0m | \u001b[38;2;203;75;22mx\u001b[0m=3\n"
      ]
     },
     "metadata": {},
     "output_type": "display_data"
    },
    {
     "data": {
      "text/html": [
       "<pre style=\"white-space:pre;overflow-x:auto;line-height:normal;font-family:Menlo,'DejaVu Sans Mono',consolas,'Courier New',monospace\"><span style=\"color: #7fbfbf; text-decoration-color: #7fbfbf; font-weight: bold\">[</span><span style=\"color: #7fbfbf; text-decoration-color: #7fbfbf\">20:51:45</span><span style=\"color: #7fbfbf; text-decoration-color: #7fbfbf; font-weight: bold\">]</span>      = 1.7320508075688772\n",
       "</pre>\n"
      ],
      "text/plain": [
       "\u001b[1;2;36m[\u001b[0m\u001b[2;36m20:51:45\u001b[0m\u001b[1;2;36m]\u001b[0m      = 1.7320508075688772\n"
      ]
     },
     "metadata": {},
     "output_type": "display_data"
    },
    {
     "data": {
      "text/html": [
       "<pre style=\"white-space:pre;overflow-x:auto;line-height:normal;font-family:Menlo,'DejaVu Sans Mono',consolas,'Courier New',monospace\"><span style=\"color: #7fbfbf; text-decoration-color: #7fbfbf\">[20:51:45]</span>  <span style=\"color: #268bd2; text-decoration-color: #268bd2; font-weight: bold\">task_square</span> | <span style=\"color: #cb4b16; text-decoration-color: #cb4b16\">x</span>=4\n",
       "</pre>\n"
      ],
      "text/plain": [
       "\u001b[2;36m[\u001b[0m\u001b[2;36m20:51:45\u001b[0m\u001b[2;36m]\u001b[0m  \u001b[1;38;2;38;139;210mtask_square\u001b[0m | \u001b[38;2;203;75;22mx\u001b[0m=4\n"
      ]
     },
     "metadata": {},
     "output_type": "display_data"
    },
    {
     "data": {
      "text/html": [
       "<pre style=\"white-space:pre;overflow-x:auto;line-height:normal;font-family:Menlo,'DejaVu Sans Mono',consolas,'Courier New',monospace\"><span style=\"color: #7fbfbf; text-decoration-color: #7fbfbf; font-weight: bold\">[</span><span style=\"color: #7fbfbf; text-decoration-color: #7fbfbf\">20:51:45</span><span style=\"color: #7fbfbf; text-decoration-color: #7fbfbf; font-weight: bold\">]</span>      = 16\n",
       "</pre>\n"
      ],
      "text/plain": [
       "\u001b[1;2;36m[\u001b[0m\u001b[2;36m20:51:45\u001b[0m\u001b[1;2;36m]\u001b[0m      = 16\n"
      ]
     },
     "metadata": {},
     "output_type": "display_data"
    },
    {
     "data": {
      "text/html": [
       "<pre style=\"white-space:pre;overflow-x:auto;line-height:normal;font-family:Menlo,'DejaVu Sans Mono',consolas,'Courier New',monospace\"><span style=\"color: #7fbfbf; text-decoration-color: #7fbfbf\">[20:51:45]</span>  <span style=\"color: #268bd2; text-decoration-color: #268bd2; font-weight: bold\">task_root</span> | <span style=\"color: #cb4b16; text-decoration-color: #cb4b16\">x</span>=4\n",
       "</pre>\n"
      ],
      "text/plain": [
       "\u001b[2;36m[\u001b[0m\u001b[2;36m20:51:45\u001b[0m\u001b[2;36m]\u001b[0m  \u001b[1;38;2;38;139;210mtask_root\u001b[0m | \u001b[38;2;203;75;22mx\u001b[0m=4\n"
      ]
     },
     "metadata": {},
     "output_type": "display_data"
    },
    {
     "data": {
      "text/html": [
       "<pre style=\"white-space:pre;overflow-x:auto;line-height:normal;font-family:Menlo,'DejaVu Sans Mono',consolas,'Courier New',monospace\"><span style=\"color: #7fbfbf; text-decoration-color: #7fbfbf; font-weight: bold\">[</span><span style=\"color: #7fbfbf; text-decoration-color: #7fbfbf\">20:51:45</span><span style=\"color: #7fbfbf; text-decoration-color: #7fbfbf; font-weight: bold\">]</span>      = 2.0\n",
       "</pre>\n"
      ],
      "text/plain": [
       "\u001b[1;2;36m[\u001b[0m\u001b[2;36m20:51:45\u001b[0m\u001b[1;2;36m]\u001b[0m      = 2.0\n"
      ]
     },
     "metadata": {},
     "output_type": "display_data"
    },
    {
     "data": {
      "text/html": [
       "<pre style=\"white-space:pre;overflow-x:auto;line-height:normal;font-family:Menlo,'DejaVu Sans Mono',consolas,'Courier New',monospace\">\n",
       "</pre>\n"
      ],
      "text/plain": [
       "\n"
      ]
     },
     "metadata": {},
     "output_type": "display_data"
    },
    {
     "data": {
      "text/html": [
       "<pre style=\"white-space:pre;overflow-x:auto;line-height:normal;font-family:Menlo,'DejaVu Sans Mono',consolas,'Courier New',monospace\">File: dm/dm_2024-10-02_20:51:45_SquareRoot.json\n",
       "</pre>\n"
      ],
      "text/plain": [
       "File: dm/dm_2024-10-02_20:51:45_SquareRoot.json\n"
      ]
     },
     "metadata": {},
     "output_type": "display_data"
    }
   ],
   "source": [
    "dm.run_log(SquareRoot)"
   ]
  },
  {
   "cell_type": "code",
   "execution_count": 29,
   "id": "58c9a9e6-8a38-497b-afb2-e68ea1ec3424",
   "metadata": {},
   "outputs": [
    {
     "data": {
      "text/html": [
       "<div>\n",
       "<style scoped>\n",
       "    .dataframe tbody tr th:only-of-type {\n",
       "        vertical-align: middle;\n",
       "    }\n",
       "\n",
       "    .dataframe tbody tr th {\n",
       "        vertical-align: top;\n",
       "    }\n",
       "\n",
       "    .dataframe thead th {\n",
       "        text-align: right;\n",
       "    }\n",
       "</style>\n",
       "<table border=\"1\" class=\"dataframe\">\n",
       "  <thead>\n",
       "    <tr style=\"text-align: right;\">\n",
       "      <th></th>\n",
       "      <th>task_square</th>\n",
       "      <th>task_root</th>\n",
       "    </tr>\n",
       "    <tr>\n",
       "      <th>x</th>\n",
       "      <th></th>\n",
       "      <th></th>\n",
       "    </tr>\n",
       "  </thead>\n",
       "  <tbody>\n",
       "    <tr>\n",
       "      <th>2</th>\n",
       "      <td>4</td>\n",
       "      <td>1.414214</td>\n",
       "    </tr>\n",
       "    <tr>\n",
       "      <th>3</th>\n",
       "      <td>9</td>\n",
       "      <td>1.732051</td>\n",
       "    </tr>\n",
       "    <tr>\n",
       "      <th>4</th>\n",
       "      <td>16</td>\n",
       "      <td>2.000000</td>\n",
       "    </tr>\n",
       "  </tbody>\n",
       "</table>\n",
       "</div>"
      ],
      "text/plain": [
       "   task_square  task_root\n",
       "x                        \n",
       "2            4   1.414214\n",
       "3            9   1.732051\n",
       "4           16   2.000000"
      ]
     },
     "execution_count": 29,
     "metadata": {},
     "output_type": "execute_result"
    }
   ],
   "source": [
    "dm.read_task(SquareRoot)"
   ]
  },
  {
   "cell_type": "markdown",
   "id": "4031c77b-102c-4742-b1ad-078dce72d6c9",
   "metadata": {},
   "source": [
    "## Squeezed Loops\n",
    "\n",
    "Loops produce a sequence (or list) of data which somtimes is needed for post-processing. As an example we want to calculate the root-mean-square (RMS) of\n",
    "\n",
    "$$\n",
    "    \\text{RMS}\\,(3, 5) = \\sqrt{\\frac{3^2 + 5^2}{2}} = 4.123\n",
    "$$"
   ]
  },
  {
   "cell_type": "markdown",
   "id": "8b3c7a90-9040-4d96-98d0-8c5b0286f844",
   "metadata": {},
   "source": [
    "We divide the calculation into two steps:\n",
    "\n",
    "1. Convert *all* input-objects into a float and return an array of the squared results, e.g. `[9, 25]`.\n",
    "2. Calculate the mean and square-root.\n"
   ]
  },
  {
   "cell_type": "code",
   "execution_count": 30,
   "id": "68805d1e-648a-47d9-ac7c-eb619de1eb38",
   "metadata": {},
   "outputs": [],
   "source": [
    "class Square(fly.Task):\n",
    "    \"\"\"Square every value x and return an array\"\"\"\n",
    "    x = fly.Input()\n",
    "\n",
    "    def task_to_number(x):\n",
    "        return float(x)\n",
    "\n",
    "    def task(y=task_to_number):\n",
    "        return y**2\n",
    "\n",
    "    def __return__(z=fly\n",
    "                   .Squeeze(task)):\n",
    "        return z"
   ]
  },
  {
   "cell_type": "markdown",
   "id": "397b1208-7c55-4f5a-be67-e1e5ae227607",
   "metadata": {},
   "source": [
    "The `x` input can be a constant value or a loop. In case of an input loop the `Square.task` function produce a sequence of (square) numbers. In order to put all available loop-results in an array we use `Squeeze`.\n",
    "\n",
    "`Squeeze` takes all values of the *inner loops* and put them into a `numpy.array`. "
   ]
  },
  {
   "cell_type": "code",
   "execution_count": 31,
   "id": "008463a8-531b-40cd-8867-1de87cc13d3e",
   "metadata": {},
   "outputs": [],
   "source": [
    "class TestRMS(fly.Task):\n",
    "    \"\"\"RMS - Root Mean Square\"\"\"\n",
    "    task_square = Square(fly.loop_items('-3', '-5'))\n",
    "    def __return__(task_square): \n",
    "        return task_square.mean() ** (1/2) == 4.123105625617661"
   ]
  },
  {
   "cell_type": "code",
   "execution_count": 32,
   "id": "3349f2fe-d62b-4d97-bfa7-fd5d8db065ce",
   "metadata": {},
   "outputs": [
    {
     "data": {
      "text/html": [
       "<pre style=\"white-space:pre;overflow-x:auto;line-height:normal;font-family:Menlo,'DejaVu Sans Mono',consolas,'Courier New',monospace\"><span style=\"color: #7fbfbf; text-decoration-color: #7fbfbf\">[20:51:57]</span>  <span style=\"color: #268bd2; text-decoration-color: #268bd2; font-weight: bold\">task_square.task_to_number</span> | task_square.<span style=\"color: #cb4b16; text-decoration-color: #cb4b16\">x</span>=<span style=\"color: #859900; text-decoration-color: #859900\">'-3'</span>\n",
       "</pre>\n"
      ],
      "text/plain": [
       "\u001b[2;36m[\u001b[0m\u001b[2;36m20:51:57\u001b[0m\u001b[2;36m]\u001b[0m  \u001b[1;38;2;38;139;210mtask_square.task_to_number\u001b[0m | task_square.\u001b[38;2;203;75;22mx\u001b[0m=\u001b[38;2;133;153;0m'-3'\u001b[0m\n"
      ]
     },
     "metadata": {},
     "output_type": "display_data"
    },
    {
     "data": {
      "text/html": [
       "<pre style=\"white-space:pre;overflow-x:auto;line-height:normal;font-family:Menlo,'DejaVu Sans Mono',consolas,'Courier New',monospace\"><span style=\"color: #7fbfbf; text-decoration-color: #7fbfbf; font-weight: bold\">[</span><span style=\"color: #7fbfbf; text-decoration-color: #7fbfbf\">20:51:57</span><span style=\"color: #7fbfbf; text-decoration-color: #7fbfbf; font-weight: bold\">]</span>      = -3.0\n",
       "</pre>\n"
      ],
      "text/plain": [
       "\u001b[1;2;36m[\u001b[0m\u001b[2;36m20:51:57\u001b[0m\u001b[1;2;36m]\u001b[0m      = -3.0\n"
      ]
     },
     "metadata": {},
     "output_type": "display_data"
    },
    {
     "data": {
      "text/html": [
       "<pre style=\"white-space:pre;overflow-x:auto;line-height:normal;font-family:Menlo,'DejaVu Sans Mono',consolas,'Courier New',monospace\"><span style=\"color: #7fbfbf; text-decoration-color: #7fbfbf\">[20:51:57]</span>  <span style=\"color: #268bd2; text-decoration-color: #268bd2; font-weight: bold\">task_square.task</span> | task_square.<span style=\"color: #cb4b16; text-decoration-color: #cb4b16\">x</span>=<span style=\"color: #859900; text-decoration-color: #859900\">'-3'</span>\n",
       "</pre>\n"
      ],
      "text/plain": [
       "\u001b[2;36m[\u001b[0m\u001b[2;36m20:51:57\u001b[0m\u001b[2;36m]\u001b[0m  \u001b[1;38;2;38;139;210mtask_square.task\u001b[0m | task_square.\u001b[38;2;203;75;22mx\u001b[0m=\u001b[38;2;133;153;0m'-3'\u001b[0m\n"
      ]
     },
     "metadata": {},
     "output_type": "display_data"
    },
    {
     "data": {
      "text/html": [
       "<pre style=\"white-space:pre;overflow-x:auto;line-height:normal;font-family:Menlo,'DejaVu Sans Mono',consolas,'Courier New',monospace\"><span style=\"color: #7fbfbf; text-decoration-color: #7fbfbf; font-weight: bold\">[</span><span style=\"color: #7fbfbf; text-decoration-color: #7fbfbf\">20:51:57</span><span style=\"color: #7fbfbf; text-decoration-color: #7fbfbf; font-weight: bold\">]</span>      = 9.0\n",
       "</pre>\n"
      ],
      "text/plain": [
       "\u001b[1;2;36m[\u001b[0m\u001b[2;36m20:51:57\u001b[0m\u001b[1;2;36m]\u001b[0m      = 9.0\n"
      ]
     },
     "metadata": {},
     "output_type": "display_data"
    },
    {
     "data": {
      "text/html": [
       "<pre style=\"white-space:pre;overflow-x:auto;line-height:normal;font-family:Menlo,'DejaVu Sans Mono',consolas,'Courier New',monospace\"><span style=\"color: #7fbfbf; text-decoration-color: #7fbfbf\">[20:51:57]</span>  <span style=\"color: #268bd2; text-decoration-color: #268bd2; font-weight: bold\">task_square.task_to_number</span> | task_square.<span style=\"color: #cb4b16; text-decoration-color: #cb4b16\">x</span>=<span style=\"color: #859900; text-decoration-color: #859900\">'-5'</span>\n",
       "</pre>\n"
      ],
      "text/plain": [
       "\u001b[2;36m[\u001b[0m\u001b[2;36m20:51:57\u001b[0m\u001b[2;36m]\u001b[0m  \u001b[1;38;2;38;139;210mtask_square.task_to_number\u001b[0m | task_square.\u001b[38;2;203;75;22mx\u001b[0m=\u001b[38;2;133;153;0m'-5'\u001b[0m\n"
      ]
     },
     "metadata": {},
     "output_type": "display_data"
    },
    {
     "data": {
      "text/html": [
       "<pre style=\"white-space:pre;overflow-x:auto;line-height:normal;font-family:Menlo,'DejaVu Sans Mono',consolas,'Courier New',monospace\"><span style=\"color: #7fbfbf; text-decoration-color: #7fbfbf; font-weight: bold\">[</span><span style=\"color: #7fbfbf; text-decoration-color: #7fbfbf\">20:51:57</span><span style=\"color: #7fbfbf; text-decoration-color: #7fbfbf; font-weight: bold\">]</span>      = -5.0\n",
       "</pre>\n"
      ],
      "text/plain": [
       "\u001b[1;2;36m[\u001b[0m\u001b[2;36m20:51:57\u001b[0m\u001b[1;2;36m]\u001b[0m      = -5.0\n"
      ]
     },
     "metadata": {},
     "output_type": "display_data"
    },
    {
     "data": {
      "text/html": [
       "<pre style=\"white-space:pre;overflow-x:auto;line-height:normal;font-family:Menlo,'DejaVu Sans Mono',consolas,'Courier New',monospace\"><span style=\"color: #7fbfbf; text-decoration-color: #7fbfbf\">[20:51:57]</span>  <span style=\"color: #268bd2; text-decoration-color: #268bd2; font-weight: bold\">task_square.task</span> | task_square.<span style=\"color: #cb4b16; text-decoration-color: #cb4b16\">x</span>=<span style=\"color: #859900; text-decoration-color: #859900\">'-5'</span>\n",
       "</pre>\n"
      ],
      "text/plain": [
       "\u001b[2;36m[\u001b[0m\u001b[2;36m20:51:57\u001b[0m\u001b[2;36m]\u001b[0m  \u001b[1;38;2;38;139;210mtask_square.task\u001b[0m | task_square.\u001b[38;2;203;75;22mx\u001b[0m=\u001b[38;2;133;153;0m'-5'\u001b[0m\n"
      ]
     },
     "metadata": {},
     "output_type": "display_data"
    },
    {
     "data": {
      "text/html": [
       "<pre style=\"white-space:pre;overflow-x:auto;line-height:normal;font-family:Menlo,'DejaVu Sans Mono',consolas,'Courier New',monospace\"><span style=\"color: #7fbfbf; text-decoration-color: #7fbfbf; font-weight: bold\">[</span><span style=\"color: #7fbfbf; text-decoration-color: #7fbfbf\">20:51:57</span><span style=\"color: #7fbfbf; text-decoration-color: #7fbfbf; font-weight: bold\">]</span>      = 25.0\n",
       "</pre>\n"
      ],
      "text/plain": [
       "\u001b[1;2;36m[\u001b[0m\u001b[2;36m20:51:57\u001b[0m\u001b[1;2;36m]\u001b[0m      = 25.0\n"
      ]
     },
     "metadata": {},
     "output_type": "display_data"
    },
    {
     "data": {
      "text/html": [
       "<pre style=\"white-space:pre;overflow-x:auto;line-height:normal;font-family:Menlo,'DejaVu Sans Mono',consolas,'Courier New',monospace\"><span style=\"color: #7fbfbf; text-decoration-color: #7fbfbf\">[20:51:57]</span>  <span style=\"color: #268bd2; text-decoration-color: #268bd2; font-weight: bold\">task_square</span>\n",
       "</pre>\n"
      ],
      "text/plain": [
       "\u001b[2;36m[\u001b[0m\u001b[2;36m20:51:57\u001b[0m\u001b[2;36m]\u001b[0m  \u001b[1;38;2;38;139;210mtask_square\u001b[0m\n"
      ]
     },
     "metadata": {},
     "output_type": "display_data"
    },
    {
     "data": {
      "text/html": [
       "<pre style=\"white-space:pre;overflow-x:auto;line-height:normal;font-family:Menlo,'DejaVu Sans Mono',consolas,'Courier New',monospace\"><span style=\"color: #7fbfbf; text-decoration-color: #7fbfbf; font-weight: bold\">[</span><span style=\"color: #7fbfbf; text-decoration-color: #7fbfbf\">20:51:57</span><span style=\"color: #7fbfbf; text-decoration-color: #7fbfbf; font-weight: bold\">]</span>      = <span style=\"color: #268bd2; text-decoration-color: #268bd2\">array</span><span style=\"font-weight: bold\">([</span> 9., 25.<span style=\"font-weight: bold\">])</span>\n",
       "</pre>\n"
      ],
      "text/plain": [
       "\u001b[1;2;36m[\u001b[0m\u001b[2;36m20:51:57\u001b[0m\u001b[1;2;36m]\u001b[0m      = \u001b[38;2;38;139;210marray\u001b[0m\u001b[1m(\u001b[0m\u001b[1m[\u001b[0m 9., 25.\u001b[1m]\u001b[0m\u001b[1m)\u001b[0m\n"
      ]
     },
     "metadata": {},
     "output_type": "display_data"
    },
    {
     "data": {
      "text/html": [
       "<pre style=\"white-space:pre;overflow-x:auto;line-height:normal;font-family:Menlo,'DejaVu Sans Mono',consolas,'Courier New',monospace\"><span style=\"color: #7fbfbf; text-decoration-color: #7fbfbf\">[20:51:57]</span>  <span style=\"color: #268bd2; text-decoration-color: #268bd2; font-weight: bold\">TestRMS</span>\n",
       "</pre>\n"
      ],
      "text/plain": [
       "\u001b[2;36m[\u001b[0m\u001b[2;36m20:51:57\u001b[0m\u001b[2;36m]\u001b[0m  \u001b[1;38;2;38;139;210mTestRMS\u001b[0m\n"
      ]
     },
     "metadata": {},
     "output_type": "display_data"
    },
    {
     "data": {
      "text/html": [
       "<pre style=\"white-space:pre;overflow-x:auto;line-height:normal;font-family:Menlo,'DejaVu Sans Mono',consolas,'Courier New',monospace\"><span style=\"color: #7fbfbf; text-decoration-color: #7fbfbf; font-weight: bold\">[</span><span style=\"color: #7fbfbf; text-decoration-color: #7fbfbf\">20:51:57</span><span style=\"color: #7fbfbf; text-decoration-color: #7fbfbf; font-weight: bold\">]</span>      = <span style=\"color: #859900; text-decoration-color: #859900; font-weight: bold; font-style: italic\">True</span>\n",
       "</pre>\n"
      ],
      "text/plain": [
       "\u001b[1;2;36m[\u001b[0m\u001b[2;36m20:51:57\u001b[0m\u001b[1;2;36m]\u001b[0m      = \u001b[1;3;38;2;133;153;0mTrue\u001b[0m\n"
      ]
     },
     "metadata": {},
     "output_type": "display_data"
    },
    {
     "data": {
      "text/html": [
       "<pre style=\"white-space:pre;overflow-x:auto;line-height:normal;font-family:Menlo,'DejaVu Sans Mono',consolas,'Courier New',monospace\">\n",
       "</pre>\n"
      ],
      "text/plain": [
       "\n"
      ]
     },
     "metadata": {},
     "output_type": "display_data"
    },
    {
     "data": {
      "text/html": [
       "<pre style=\"white-space:pre;overflow-x:auto;line-height:normal;font-family:Menlo,'DejaVu Sans Mono',consolas,'Courier New',monospace\">File: dm/dm_2024-10-02_20:51:57.json\n",
       "</pre>\n"
      ],
      "text/plain": [
       "File: dm/dm_2024-10-02_20:51:57.json\n"
      ]
     },
     "metadata": {},
     "output_type": "display_data"
    }
   ],
   "source": [
    "dm.run_log(TestRMS)"
   ]
  },
  {
   "cell_type": "markdown",
   "id": "b3a1a350-6d34-46a4-b955-4848f0eb9d8c",
   "metadata": {},
   "source": [
    "## Testing\n",
    "\n",
    "Putting everything together we can use the `Task` class for writting **Test-Cases** and **Test-Plans**."
   ]
  },
  {
   "cell_type": "code",
   "execution_count": 33,
   "id": "98db7661-8223-493c-b340-4ea8ae6cdb36",
   "metadata": {},
   "outputs": [],
   "source": [
    "from time import sleep"
   ]
  },
  {
   "cell_type": "code",
   "execution_count": 34,
   "id": "a6fda834-14c0-4f4b-8a59-eb81974cdf0b",
   "metadata": {},
   "outputs": [],
   "source": [
    "class TestNumberIsEven(fly.Task):\n",
    "    x = fly.Input()\n",
    "    \n",
    "    def __return__(x):\n",
    "        sleep(1)\n",
    "        return not (x % 2)"
   ]
  },
  {
   "cell_type": "code",
   "execution_count": 35,
   "id": "55cf3c3b-e49f-4700-9499-ea7a917e17f8",
   "metadata": {},
   "outputs": [],
   "source": [
    "class TestSquareRoot(fly.Task):\n",
    "    x = fly.Input()\n",
    "\n",
    "    def task_square(x):\n",
    "        return x**2\n",
    "\n",
    "    def task_root(x=task_square):\n",
    "        sleep(0.5)\n",
    "        return x**(1/2)\n",
    "\n",
    "    def __return__(x, task_root):\n",
    "        return x == task_root"
   ]
  },
  {
   "cell_type": "code",
   "execution_count": 36,
   "id": "9e992ec0-2ab3-4d93-bbb7-a96d720dc1dc",
   "metadata": {},
   "outputs": [],
   "source": [
    "class TestMean(fly.Task):\n",
    "    start = fly.Input()\n",
    "    stop = fly.Input()\n",
    "    \n",
    "    def task_square_numbers(x=fly.loop_lin(start, stop)):\n",
    "        sleep(0.5)\n",
    "        return x**2\n",
    "\n",
    "    def final_mean(x=fly.Squeeze(task_square_numbers)):\n",
    "        return x.mean()\n",
    "\n",
    "    def __return__(final_mean, start, stop):\n",
    "        return final_mean == (start + stop) / 2"
   ]
  },
  {
   "cell_type": "code",
   "execution_count": 37,
   "id": "f37e9881-0d8e-40b3-b903-89d39fc5e5a4",
   "metadata": {},
   "outputs": [],
   "source": [
    "class TestPlan(fly.Task):\n",
    "    \"\"\"Configuration of all TestCases\"\"\"\n",
    "    number = fly.loop_items(1, 2, 3)\n",
    "    \n",
    "    test_even = TestNumberIsEven(x=number)\n",
    "    test_sqroot = TestSquareRoot(x=fly.loop_items(3, 4, 5))\n",
    "    test_mean = TestMean(7, 12)"
   ]
  },
  {
   "cell_type": "code",
   "execution_count": 38,
   "id": "8482de94-9d4e-435b-863d-9cc94652d21c",
   "metadata": {
    "scrolled": true
   },
   "outputs": [],
   "source": [
    "dm = fly.DataManager()\n",
    "# dm.run(TestPlan)"
   ]
  },
  {
   "cell_type": "code",
   "execution_count": 39,
   "id": "76429531-0be6-4288-b24b-ae47649dfef8",
   "metadata": {},
   "outputs": [
    {
     "data": {
      "application/vnd.jupyter.widget-view+json": {
       "model_id": "a833c8b5eafe465b947fa9cd8ae6ad58",
       "version_major": 2,
       "version_minor": 0
      },
      "text/plain": [
       "Output()"
      ]
     },
     "metadata": {},
     "output_type": "display_data"
    },
    {
     "data": {
      "text/html": [
       "<pre style=\"white-space:pre;overflow-x:auto;line-height:normal;font-family:Menlo,'DejaVu Sans Mono',consolas,'Courier New',monospace\"></pre>\n"
      ],
      "text/plain": []
     },
     "metadata": {},
     "output_type": "display_data"
    },
    {
     "data": {
      "text/html": [
       "<pre style=\"white-space:pre;overflow-x:auto;line-height:normal;font-family:Menlo,'DejaVu Sans Mono',consolas,'Courier New',monospace\">File: dm/dm_2024-10-02_20:52:03_TestPlan.json\n",
       "</pre>\n"
      ],
      "text/plain": [
       "File: dm/dm_2024-10-02_20:52:03_TestPlan.json\n"
      ]
     },
     "metadata": {},
     "output_type": "display_data"
    }
   ],
   "source": [
    "dm.run_live(TestPlan)"
   ]
  },
  {
   "cell_type": "code",
   "execution_count": 40,
   "id": "4d9e2159-999a-417f-8c34-67e8b334dbca",
   "metadata": {},
   "outputs": [
    {
     "data": {
      "text/html": [
       "<div>\n",
       "<style scoped>\n",
       "    .dataframe tbody tr th:only-of-type {\n",
       "        vertical-align: middle;\n",
       "    }\n",
       "\n",
       "    .dataframe tbody tr th {\n",
       "        vertical-align: top;\n",
       "    }\n",
       "\n",
       "    .dataframe thead th {\n",
       "        text-align: right;\n",
       "    }\n",
       "</style>\n",
       "<table border=\"1\" class=\"dataframe\">\n",
       "  <thead>\n",
       "    <tr style=\"text-align: right;\">\n",
       "      <th></th>\n",
       "      <th>test_even</th>\n",
       "      <th>test_sqroot</th>\n",
       "      <th>test_mean</th>\n",
       "    </tr>\n",
       "    <tr>\n",
       "      <th>number</th>\n",
       "      <th></th>\n",
       "      <th></th>\n",
       "      <th></th>\n",
       "    </tr>\n",
       "  </thead>\n",
       "  <tbody>\n",
       "    <tr>\n",
       "      <th>1</th>\n",
       "      <td>False</td>\n",
       "      <td>True</td>\n",
       "      <td>False</td>\n",
       "    </tr>\n",
       "    <tr>\n",
       "      <th>2</th>\n",
       "      <td>True</td>\n",
       "      <td>True</td>\n",
       "      <td>False</td>\n",
       "    </tr>\n",
       "    <tr>\n",
       "      <th>3</th>\n",
       "      <td>False</td>\n",
       "      <td>True</td>\n",
       "      <td>False</td>\n",
       "    </tr>\n",
       "  </tbody>\n",
       "</table>\n",
       "</div>"
      ],
      "text/plain": [
       "        test_even  test_sqroot  test_mean\n",
       "number                                   \n",
       "1           False         True      False\n",
       "2            True         True      False\n",
       "3           False         True      False"
      ]
     },
     "execution_count": 40,
     "metadata": {},
     "output_type": "execute_result"
    }
   ],
   "source": [
    "tp = TestPlan()\n",
    "dm.read_task(tp)"
   ]
  },
  {
   "cell_type": "code",
   "execution_count": 41,
   "id": "4af4b8bb-26d9-4799-88e5-03027c8159ae",
   "metadata": {},
   "outputs": [
    {
     "data": {
      "text/html": [
       "<div>\n",
       "<style scoped>\n",
       "    .dataframe tbody tr th:only-of-type {\n",
       "        vertical-align: middle;\n",
       "    }\n",
       "\n",
       "    .dataframe tbody tr th {\n",
       "        vertical-align: top;\n",
       "    }\n",
       "\n",
       "    .dataframe thead th {\n",
       "        text-align: right;\n",
       "    }\n",
       "</style>\n",
       "<table border=\"1\" class=\"dataframe\">\n",
       "  <thead>\n",
       "    <tr style=\"text-align: right;\">\n",
       "      <th></th>\n",
       "      <th>final_mean</th>\n",
       "      <th>__return__</th>\n",
       "    </tr>\n",
       "    <tr>\n",
       "      <th>TestPlan.number</th>\n",
       "      <th></th>\n",
       "      <th></th>\n",
       "    </tr>\n",
       "  </thead>\n",
       "  <tbody>\n",
       "    <tr>\n",
       "      <th>1</th>\n",
       "      <td>93.166667</td>\n",
       "      <td>False</td>\n",
       "    </tr>\n",
       "    <tr>\n",
       "      <th>2</th>\n",
       "      <td>93.166667</td>\n",
       "      <td>False</td>\n",
       "    </tr>\n",
       "    <tr>\n",
       "      <th>3</th>\n",
       "      <td>93.166667</td>\n",
       "      <td>False</td>\n",
       "    </tr>\n",
       "  </tbody>\n",
       "</table>\n",
       "</div>"
      ],
      "text/plain": [
       "                 final_mean  __return__\n",
       "TestPlan.number                        \n",
       "1                 93.166667       False\n",
       "2                 93.166667       False\n",
       "3                 93.166667       False"
      ]
     },
     "execution_count": 41,
     "metadata": {},
     "output_type": "execute_result"
    }
   ],
   "source": [
    "dm.read_task(tp.test_mean)"
   ]
  },
  {
   "cell_type": "code",
   "execution_count": 42,
   "id": "fd1467be-f0cc-4923-9d44-783c1846df8d",
   "metadata": {},
   "outputs": [
    {
     "data": {
      "text/html": [
       "<div>\n",
       "<style scoped>\n",
       "    .dataframe tbody tr th:only-of-type {\n",
       "        vertical-align: middle;\n",
       "    }\n",
       "\n",
       "    .dataframe tbody tr th {\n",
       "        vertical-align: top;\n",
       "    }\n",
       "\n",
       "    .dataframe thead th {\n",
       "        text-align: right;\n",
       "    }\n",
       "</style>\n",
       "<table border=\"1\" class=\"dataframe\">\n",
       "  <thead>\n",
       "    <tr style=\"text-align: right;\">\n",
       "      <th></th>\n",
       "      <th>x</th>\n",
       "      <th>__return__</th>\n",
       "    </tr>\n",
       "    <tr>\n",
       "      <th>TestPlan.number</th>\n",
       "      <th></th>\n",
       "      <th></th>\n",
       "    </tr>\n",
       "  </thead>\n",
       "  <tbody>\n",
       "    <tr>\n",
       "      <th>1</th>\n",
       "      <td>[49, 64, 81, 100, 121, 144]</td>\n",
       "      <td>93.166667</td>\n",
       "    </tr>\n",
       "    <tr>\n",
       "      <th>2</th>\n",
       "      <td>[49, 64, 81, 100, 121, 144]</td>\n",
       "      <td>93.166667</td>\n",
       "    </tr>\n",
       "    <tr>\n",
       "      <th>3</th>\n",
       "      <td>[49, 64, 81, 100, 121, 144]</td>\n",
       "      <td>93.166667</td>\n",
       "    </tr>\n",
       "  </tbody>\n",
       "</table>\n",
       "</div>"
      ],
      "text/plain": [
       "                                           x  __return__\n",
       "TestPlan.number                                         \n",
       "1                [49, 64, 81, 100, 121, 144]   93.166667\n",
       "2                [49, 64, 81, 100, 121, 144]   93.166667\n",
       "3                [49, 64, 81, 100, 121, 144]   93.166667"
      ]
     },
     "execution_count": 42,
     "metadata": {},
     "output_type": "execute_result"
    }
   ],
   "source": [
    "dm.read_task(tp.test_mean.final_mean)"
   ]
  },
  {
   "cell_type": "code",
   "execution_count": 43,
   "id": "2d389720-487a-4395-baba-2273b12a544b",
   "metadata": {},
   "outputs": [
    {
     "data": {
      "text/html": [
       "<div>\n",
       "<style scoped>\n",
       "    .dataframe tbody tr th:only-of-type {\n",
       "        vertical-align: middle;\n",
       "    }\n",
       "\n",
       "    .dataframe tbody tr th {\n",
       "        vertical-align: top;\n",
       "    }\n",
       "\n",
       "    .dataframe thead th {\n",
       "        text-align: right;\n",
       "    }\n",
       "</style>\n",
       "<table border=\"1\" class=\"dataframe\">\n",
       "  <thead>\n",
       "    <tr style=\"text-align: right;\">\n",
       "      <th></th>\n",
       "      <th></th>\n",
       "      <th>task_square_numbers</th>\n",
       "    </tr>\n",
       "    <tr>\n",
       "      <th>TestPlan.number</th>\n",
       "      <th>task_square_numbers.x</th>\n",
       "      <th></th>\n",
       "    </tr>\n",
       "  </thead>\n",
       "  <tbody>\n",
       "    <tr>\n",
       "      <th rowspan=\"6\" valign=\"top\">1</th>\n",
       "      <th>7</th>\n",
       "      <td>49</td>\n",
       "    </tr>\n",
       "    <tr>\n",
       "      <th>8</th>\n",
       "      <td>64</td>\n",
       "    </tr>\n",
       "    <tr>\n",
       "      <th>9</th>\n",
       "      <td>81</td>\n",
       "    </tr>\n",
       "    <tr>\n",
       "      <th>10</th>\n",
       "      <td>100</td>\n",
       "    </tr>\n",
       "    <tr>\n",
       "      <th>11</th>\n",
       "      <td>121</td>\n",
       "    </tr>\n",
       "    <tr>\n",
       "      <th>12</th>\n",
       "      <td>144</td>\n",
       "    </tr>\n",
       "    <tr>\n",
       "      <th rowspan=\"6\" valign=\"top\">2</th>\n",
       "      <th>7</th>\n",
       "      <td>49</td>\n",
       "    </tr>\n",
       "    <tr>\n",
       "      <th>8</th>\n",
       "      <td>64</td>\n",
       "    </tr>\n",
       "    <tr>\n",
       "      <th>9</th>\n",
       "      <td>81</td>\n",
       "    </tr>\n",
       "    <tr>\n",
       "      <th>10</th>\n",
       "      <td>100</td>\n",
       "    </tr>\n",
       "    <tr>\n",
       "      <th>11</th>\n",
       "      <td>121</td>\n",
       "    </tr>\n",
       "    <tr>\n",
       "      <th>12</th>\n",
       "      <td>144</td>\n",
       "    </tr>\n",
       "    <tr>\n",
       "      <th rowspan=\"6\" valign=\"top\">3</th>\n",
       "      <th>7</th>\n",
       "      <td>49</td>\n",
       "    </tr>\n",
       "    <tr>\n",
       "      <th>8</th>\n",
       "      <td>64</td>\n",
       "    </tr>\n",
       "    <tr>\n",
       "      <th>9</th>\n",
       "      <td>81</td>\n",
       "    </tr>\n",
       "    <tr>\n",
       "      <th>10</th>\n",
       "      <td>100</td>\n",
       "    </tr>\n",
       "    <tr>\n",
       "      <th>11</th>\n",
       "      <td>121</td>\n",
       "    </tr>\n",
       "    <tr>\n",
       "      <th>12</th>\n",
       "      <td>144</td>\n",
       "    </tr>\n",
       "  </tbody>\n",
       "</table>\n",
       "</div>"
      ],
      "text/plain": [
       "                                       task_square_numbers\n",
       "TestPlan.number task_square_numbers.x                     \n",
       "1               7                                       49\n",
       "                8                                       64\n",
       "                9                                       81\n",
       "                10                                     100\n",
       "                11                                     121\n",
       "                12                                     144\n",
       "2               7                                       49\n",
       "                8                                       64\n",
       "                9                                       81\n",
       "                10                                     100\n",
       "                11                                     121\n",
       "                12                                     144\n",
       "3               7                                       49\n",
       "                8                                       64\n",
       "                9                                       81\n",
       "                10                                     100\n",
       "                11                                     121\n",
       "                12                                     144"
      ]
     },
     "execution_count": 43,
     "metadata": {},
     "output_type": "execute_result"
    }
   ],
   "source": [
    "dm.read_task(tp.test_mean, 'task')"
   ]
  },
  {
   "attachments": {},
   "cell_type": "markdown",
   "id": "8b71e388-28da-43b9-bb60-ec10c511ed18",
   "metadata": {},
   "source": [
    "## To be Continued ...\n",
    "\n",
    "Make the tests tester-**agnostic** with an additional layer and add\n",
    "```python\n",
    "    dut = fly.Input()\n",
    "\n",
    "```\n",
    "to all tests and choose only a tester-**implementation** with\n",
    "```python\n",
    "    dut = MyInstrumentSetup()\n",
    "```\n",
    "when the tests are really evaluated, e.g. in the *TestPlan-Task*."
   ]
  }
 ],
 "metadata": {
  "kernelspec": {
   "display_name": "Python 3 (ipykernel)",
   "language": "python",
   "name": "python3"
  },
  "language_info": {
   "codemirror_mode": {
    "name": "ipython",
    "version": 3
   },
   "file_extension": ".py",
   "mimetype": "text/x-python",
   "name": "python",
   "nbconvert_exporter": "python",
   "pygments_lexer": "ipython3",
   "version": "3.10.12"
  }
 },
 "nbformat": 4,
 "nbformat_minor": 5
}
