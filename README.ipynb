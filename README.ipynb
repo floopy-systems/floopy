{
 "cells": [
  {
   "cell_type": "markdown",
   "id": "e322c237-538a-4cf2-9eca-91b7d366ced2",
   "metadata": {},
   "source": [
    "<h3 align=\"center\">\n",
    "    <img width=\"66%\" alt=\"FLooPy\" src=\"https://raw.githubusercontent.com/floopy-systems/floopy/refs/heads/main/logo-floopy.svg\">\n",
    "    <br><em>Tester-Agnostic Sequencer for Hardware-Testing in Python</em>\n",
    "    <hr />\n",
    "</h3>\n",
    "\n",
    "### Tests\n",
    "* ... can performed within different **test-environments**\n",
    "* ... can organized in **hierarchical** layers with (sub-) tasks\n",
    "* ... can have `setup`, `task/test`, `teardown`, `final` and output functions\n",
    "* Every variable\n",
    "    - ... has an unique **namespace**\n",
    "    - ... is stored as a **time-signal** with timestamps\n",
    "    - ... can be **sub-classed**\n",
    "* Data **dependencies** between functions are **resolved** by a graph-based approach\n",
    "* Auto-Save for loop-recovery and post-processing (experimental)\n",
    "* Can handle **non-reentrant** tests by an extra extension (unpublished)\n",
    "\n",
    "### Loops\n",
    "* Flexible **loop configuration** (nested, zipped, concatenated)\n",
    "* Standard loops: `loop_items`, `loop_lin`, `loop_log`, `loop_bisect`\n",
    "* Feedback for **HiL** possible"
   ]
  },
  {
   "cell_type": "markdown",
   "id": "0aef3867-c6f4-4d4c-b240-dc54032f16f3",
   "metadata": {},
   "source": [
    "## Getting Started\n",
    "\n",
    "Suppose we want to test if the internal resistance of an battery `rbat` is inside the test-limits:\n",
    "\n",
    "* The test-environment is abstracted by the namespace of the `dut` input and must be specified later, just before running the test-case.\n",
    "* The loop over the load current `i_load` can be either configured locally inside the test-case or later, just before running the test-case."
   ]
  },
  {
   "cell_type": "markdown",
   "id": "84e2c195-c6a5-4481-ac82-22e022671466",
   "metadata": {},
   "source": [
    "### Test-Case"
   ]
  },
  {
   "cell_type": "code",
   "execution_count": 1,
   "id": "59d4dd2a-cb31-405b-a8be-c1c01fc3e1d4",
   "metadata": {},
   "outputs": [],
   "source": [
    "import floopy as fly\n",
    "\n",
    "\n",
    "class Test_Rbat_Charged(fly.Task):\n",
    "    dut = fly.Input()  # object to stimulate device-under-test and measure response\n",
    "   \n",
    "    i_load = fly.Input(min=0, max=1.5, unit='A', default=fly.loop_lin(num=3))\n",
    "    \n",
    "    def task(dut, i_load):\n",
    "        dut.current = i_load\n",
    "        return dut.voltage\n",
    "\n",
    "    def final_fit(i=fly.Squeeze(task.i_load), v=fly.Squeeze(task)):\n",
    "        import numpy as np\n",
    "        return np.polyfit(i, v, deg=1)\n",
    "        \n",
    "    @fly.Output(min=0, ltl=0.2, utl=2, max=10, unit='ohm')\n",
    "    def rbat(coeffs=final_fit):\n",
    "        return coeffs[0]"
   ]
  },
  {
   "cell_type": "markdown",
   "id": "daa3c81c-06dd-4732-bc52-66a380022c2d",
   "metadata": {},
   "source": [
    "### Test-Plan\n",
    "\n",
    "Now, the test-case `Test_Rbat_Charged` can be used with different loop-configurations and within different test-environments. For demonstration we just use the simple resistor equation as a simulation-environment."
   ]
  },
  {
   "cell_type": "code",
   "execution_count": 2,
   "id": "dde8c441-e48d-4420-bed2-a2602857f961",
   "metadata": {},
   "outputs": [],
   "source": [
    "class TestPlan_BatterCheck(fly.Task):\n",
    "    def dut():\n",
    "        class Dut:\n",
    "            @property\n",
    "            def voltage(self):\n",
    "                resistance = 0.8  # ohm\n",
    "                return resistance * self.current\n",
    "        return Dut()\n",
    "\n",
    "    test_rbat_charged = Test_Rbat_Charged(dut, i_load=fly.loop_log(0.1, 1, num=5))"
   ]
  },
  {
   "cell_type": "markdown",
   "id": "4bd1495e-afd5-41ea-85c8-79d3d92312d3",
   "metadata": {},
   "source": [
    "Note, that we changed the default loop-configuration of `i_load` to a logarithmic scaling.\n",
    "\n",
    "In order to perform the Test-Plan we need a `DataManager` saving all loop-states and measurement results as time-signals in a json-file."
   ]
  },
  {
   "cell_type": "markdown",
   "id": "6ff264f4-3ff4-4b5c-b957-49894cbfa70a",
   "metadata": {},
   "source": [
    "```python\n",
    ">>> dm = fly.DataManager()\n",
    ">>> dm.run_live(TestPlan_BatterCheck)\n",
    "\n",
    "╭─ TestPlan_BatterCheck ─╮\n",
    "│  ✔  test_rbat_charged  │\n",
    "╰────────────────────────╯\n",
    "File: dm/dm_2024-10-10_16:00:29.json\n",
    "```"
   ]
  },
  {
   "cell_type": "markdown",
   "id": "f9182d4f-005e-410a-b871-280110b05fd7",
   "metadata": {},
   "source": [
    "The test results and all variables can be analyzed via pandas-tables."
   ]
  },
  {
   "cell_type": "markdown",
   "id": "8a7fb31f-a75e-4a19-9446-9b327c0922a3",
   "metadata": {},
   "source": [
    "```python\n",
    ">>> dm.read_task(TestPlan_BatterCheck)\n",
    "```\n",
    "<div>\n",
    "<table border=\"1\" class=\"dataframe\">\n",
    "  <thead>\n",
    "    <tr>\n",
    "      <th colspan=\"2\" halign=\"left\">test_rbat_charged</th>\n",
    "    </tr>\n",
    "    <tr>\n",
    "      <th>rbat</th>\n",
    "      <th>check</th>\n",
    "    </tr>\n",
    "  </thead>\n",
    "  <tbody>\n",
    "    <tr>\n",
    "      <td>0.8</td>\n",
    "      <td>True</td>\n",
    "    </tr>\n",
    "  </tbody>\n",
    "</table>\n",
    "</div>"
   ]
  },
  {
   "cell_type": "markdown",
   "id": "446f11e0-03ee-4a8e-8e31-deb4070d0a11",
   "metadata": {},
   "source": [
    "```python\n",
    ">>> tp = TestPlan_BatterCheck()\n",
    ">>> dm.read_task(tp.test_rbat_charged.task)\n",
    "```\n",
    "<div>\n",
    "<table border=\"1\" class=\"dataframe\">\n",
    "  <thead>\n",
    "    <tr style=\"text-align: right;\">\n",
    "      <th></th>\n",
    "      <th>i_load</th>\n",
    "      <th>__return__</th>\n",
    "    </tr>\n",
    "    <tr>\n",
    "      <th>TestPlan_BatterCheck.test_rbat_charged.i_load</th>\n",
    "      <th></th>\n",
    "      <th></th>\n",
    "    </tr>\n",
    "  </thead>\n",
    "  <tbody>\n",
    "    <tr>\n",
    "      <th>0.100000</th>\n",
    "      <td>0.100000</td>\n",
    "      <td>0.080000</td>\n",
    "    </tr>\n",
    "    <tr>\n",
    "      <th>0.177828</th>\n",
    "      <td>0.177828</td>\n",
    "      <td>0.142262</td>\n",
    "    </tr>\n",
    "    <tr>\n",
    "      <th>0.316228</th>\n",
    "      <td>0.316228</td>\n",
    "      <td>0.252982</td>\n",
    "    </tr>\n",
    "    <tr>\n",
    "      <th>0.562341</th>\n",
    "      <td>0.562341</td>\n",
    "      <td>0.449873</td>\n",
    "    </tr>\n",
    "    <tr>\n",
    "      <th>1.000000</th>\n",
    "      <td>1.000000</td>\n",
    "      <td>0.800000</td>\n",
    "    </tr>\n",
    "  </tbody>\n",
    "</table>\n",
    "</div>"
   ]
  },
  {
   "cell_type": "markdown",
   "id": "8840cb03-9174-409e-b5da-b3d57b9d9560",
   "metadata": {},
   "source": [
    "For a real measurement we leave the test-case unchanged and just need to replace the `dut` function in the test-plan with something like\n",
    "\n",
    "```python\n",
    "def dut():\n",
    "    import instruments\n",
    "    dut = instruments.PowerSupply()\n",
    "    return dut\n",
    "```\n",
    "\n",
    "assuming an equal namespace\n",
    "\n",
    "```python\n",
    "dut.voltage\n",
    "dut.current\n",
    "```\n",
    "\n",
    "with an equal behavior."
   ]
  },
  {
   "cell_type": "markdown",
   "id": "8caee2fc-5d00-409c-ad2b-b325f42458a2",
   "metadata": {},
   "source": [
    "*Further information can be found in the **[FLooPy-Tutorial](./tutorial.ipynb)** which is more detailed.*"
   ]
  },
  {
   "cell_type": "markdown",
   "id": "0f585d6c-03e0-47cf-be40-24b888ddc90b",
   "metadata": {},
   "source": [
    "## Install\n",
    "\n",
    "\n",
    "Simply do either\n",
    "\n",
    "    pip install floopy\n",
    "\n",
    "or download the repository for a more recent version, change into\n",
    "the `floopy` folder and\n",
    "\n",
    "    pip install . --user\n",
    "\n",
    "If necessary you can run the tests with\n",
    "\n",
    "    python -m pytest"
   ]
  },
  {
   "cell_type": "markdown",
   "id": "43b768a1-3981-4273-b8c5-bb388f856249",
   "metadata": {},
   "source": [
    "## Licence\n",
    "\n",
    "LoopyPlot is licenced under GPL 3."
   ]
  }
 ],
 "metadata": {
  "kernelspec": {
   "display_name": "Python 3 (ipykernel)",
   "language": "python",
   "name": "python3"
  },
  "language_info": {
   "codemirror_mode": {
    "name": "ipython",
    "version": 3
   },
   "file_extension": ".py",
   "mimetype": "text/x-python",
   "name": "python",
   "nbconvert_exporter": "python",
   "pygments_lexer": "ipython3",
   "version": "3.10.12"
  }
 },
 "nbformat": 4,
 "nbformat_minor": 5
}
