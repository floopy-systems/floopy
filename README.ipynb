{
 "cells": [
  {
   "cell_type": "markdown",
   "id": "e322c237-538a-4cf2-9eca-91b7d366ced2",
   "metadata": {},
   "source": [
    "FLooPy\n",
    "======\n",
    "> *Flow-based Loops with Python*\n",
    "\n",
    "*FLooPy* is a **tester-agnostic sequencer** for **hardware-testing.** It has a **low-code** approach in which the same test can be performed within different **test-environments.**\n",
    "\n",
    "#### Tests\n",
    "* ... can organized in **hierarchical** layers with (sub-) tasks\n",
    "* Every variable\n",
    "    - ... has an unique name via **namespace**\n",
    "    - ... is stored as a **time-signal** with timestamps\n",
    "    - ... can be **sub-classed**\n",
    "* Data dependencies between functions are resolved by a graph-based approach\n",
    "* Auto-Save for loop-recovery and post-processing (experimental)\n",
    "* Can handle **non-reentrant** tests by an extra extension (unpublished)\n",
    "\n",
    "#### Loops\n",
    "* Flexible **loop configuration** (nested, zipped, concatenated)\n",
    "* Standard loops: `loop_items`, `loop_lin`, `loop_log`, `loop_bisect`\n",
    "* Feedback for HiL possible\n",
    "\n",
    "---"
   ]
  },
  {
   "cell_type": "markdown",
   "id": "0aef3867-c6f4-4d4c-b240-dc54032f16f3",
   "metadata": {},
   "source": [
    "## Test-Structure by Example\n",
    "\n",
    "For a Getting-Started example look into the *[FLooPy-Tutorial](./tutorial.ipynb)*.\n",
    "\n",
    "Suppose we want to test if the internal resistance of an battery `rbat` is inside the test-limits:\n",
    "\n",
    "* The test-environment is abstracted by the namespace of the `dut` input and must be specified later, just before running the test-case.\n",
    "* The loop over the load-current can be either configured locally inside the test-case or later, just before running the test-case."
   ]
  },
  {
   "cell_type": "markdown",
   "id": "84e2c195-c6a5-4481-ac82-22e022671466",
   "metadata": {},
   "source": [
    "#### Test-Case"
   ]
  },
  {
   "cell_type": "code",
   "execution_count": 1,
   "id": "59d4dd2a-cb31-405b-a8be-c1c01fc3e1d4",
   "metadata": {},
   "outputs": [],
   "source": [
    "import floopy as fly\n",
    "\n",
    "\n",
    "class Test_Rbat_Charged(fly.Task):\n",
    "    dut = fly.Input()  # object to stimulate device-under-test and measure response\n",
    "   \n",
    "    i_load = fly.Input(min=0, max=1.5, unit='A', default=fly.loop_lin(num=5))\n",
    "    \n",
    "    def task(dut, i_load):\n",
    "        dut.current = i_load\n",
    "        return dut.voltage\n",
    "\n",
    "    def final_fit(i=fly.Squeeze(task.i_load), v=fly.Squeeze(task)):\n",
    "        import numpy as np\n",
    "        return np.polyfit(i, v, deg=1)\n",
    "        \n",
    "    @fly.Output(min=0, ltl=0.2, utl=2, max=10, unit='ohm')\n",
    "    def rbat(coeffs=final_fit):\n",
    "        return coeffs[0]"
   ]
  },
  {
   "cell_type": "markdown",
   "id": "daa3c81c-06dd-4732-bc52-66a380022c2d",
   "metadata": {},
   "source": [
    "#### Test-Plan\n",
    "\n",
    "Now, the test-case `Test_Rbat_Charged` can be used with different loop-configurations and within different test-environments. For demonstration we just use the simple resistor equation as a simulation-environment."
   ]
  },
  {
   "cell_type": "code",
   "execution_count": 2,
   "id": "dde8c441-e48d-4420-bed2-a2602857f961",
   "metadata": {},
   "outputs": [],
   "source": [
    "class TestPlan_BatterCheck(fly.Task):\n",
    "    def dut():\n",
    "        class Dut:\n",
    "            @property\n",
    "            def voltage(self):\n",
    "                resistance = 0.8  # ohm\n",
    "                return resistance * self.current\n",
    "        return Dut()\n",
    "\n",
    "    test_rbat_charged = Test_Rbat_Charged(dut, i_load=fly.loop_log(0.1, 1, num=3))"
   ]
  },
  {
   "cell_type": "code",
   "execution_count": 3,
   "id": "ae08cbab-ed8d-417a-a6a7-6d6c98747d9e",
   "metadata": {},
   "outputs": [
    {
     "data": {
      "text/html": [
       "<pre style=\"white-space:pre;overflow-x:auto;line-height:normal;font-family:Menlo,'DejaVu Sans Mono',consolas,'Courier New',monospace\"><span style=\"color: #7fbfbf; text-decoration-color: #7fbfbf\">[22:35:02]</span>  <span style=\"color: #268bd2; text-decoration-color: #268bd2; font-weight: bold\">test_rbat_charged.task</span> | test_rbat_charged.<span style=\"color: #cb4b16; text-decoration-color: #cb4b16\">i_load</span>=0.1\n",
       "</pre>\n"
      ],
      "text/plain": [
       "\u001b[2;36m[\u001b[0m\u001b[2;36m22:35:02\u001b[0m\u001b[2;36m]\u001b[0m  \u001b[1;38;2;38;139;210mtest_rbat_charged.task\u001b[0m | test_rbat_charged.\u001b[38;2;203;75;22mi_load\u001b[0m=0.1\n"
      ]
     },
     "metadata": {},
     "output_type": "display_data"
    },
    {
     "data": {
      "text/html": [
       "<pre style=\"white-space:pre;overflow-x:auto;line-height:normal;font-family:Menlo,'DejaVu Sans Mono',consolas,'Courier New',monospace\"><span style=\"color: #7fbfbf; text-decoration-color: #7fbfbf; font-weight: bold\">[</span><span style=\"color: #7fbfbf; text-decoration-color: #7fbfbf\">22:35:02</span><span style=\"color: #7fbfbf; text-decoration-color: #7fbfbf; font-weight: bold\">]</span>      = 0.08000000000000002\n",
       "</pre>\n"
      ],
      "text/plain": [
       "\u001b[1;2;36m[\u001b[0m\u001b[2;36m22:35:02\u001b[0m\u001b[1;2;36m]\u001b[0m      = 0.08000000000000002\n"
      ]
     },
     "metadata": {},
     "output_type": "display_data"
    },
    {
     "data": {
      "text/html": [
       "<pre style=\"white-space:pre;overflow-x:auto;line-height:normal;font-family:Menlo,'DejaVu Sans Mono',consolas,'Courier New',monospace\"><span style=\"color: #7fbfbf; text-decoration-color: #7fbfbf\">[22:35:02]</span>  <span style=\"color: #268bd2; text-decoration-color: #268bd2; font-weight: bold\">test_rbat_charged.task</span> | test_rbat_charged.<span style=\"color: #cb4b16; text-decoration-color: #cb4b16\">i_load</span>=0.31622776601683794\n",
       "</pre>\n"
      ],
      "text/plain": [
       "\u001b[2;36m[\u001b[0m\u001b[2;36m22:35:02\u001b[0m\u001b[2;36m]\u001b[0m  \u001b[1;38;2;38;139;210mtest_rbat_charged.task\u001b[0m | test_rbat_charged.\u001b[38;2;203;75;22mi_load\u001b[0m=0.31622776601683794\n"
      ]
     },
     "metadata": {},
     "output_type": "display_data"
    },
    {
     "data": {
      "text/html": [
       "<pre style=\"white-space:pre;overflow-x:auto;line-height:normal;font-family:Menlo,'DejaVu Sans Mono',consolas,'Courier New',monospace\"><span style=\"color: #7fbfbf; text-decoration-color: #7fbfbf; font-weight: bold\">[</span><span style=\"color: #7fbfbf; text-decoration-color: #7fbfbf\">22:35:02</span><span style=\"color: #7fbfbf; text-decoration-color: #7fbfbf; font-weight: bold\">]</span>      = 0.2529822128134704\n",
       "</pre>\n"
      ],
      "text/plain": [
       "\u001b[1;2;36m[\u001b[0m\u001b[2;36m22:35:02\u001b[0m\u001b[1;2;36m]\u001b[0m      = 0.2529822128134704\n"
      ]
     },
     "metadata": {},
     "output_type": "display_data"
    },
    {
     "data": {
      "text/html": [
       "<pre style=\"white-space:pre;overflow-x:auto;line-height:normal;font-family:Menlo,'DejaVu Sans Mono',consolas,'Courier New',monospace\"><span style=\"color: #7fbfbf; text-decoration-color: #7fbfbf\">[22:35:02]</span>  <span style=\"color: #268bd2; text-decoration-color: #268bd2; font-weight: bold\">test_rbat_charged.task</span> | test_rbat_charged.<span style=\"color: #cb4b16; text-decoration-color: #cb4b16\">i_load</span>=1.0\n",
       "</pre>\n"
      ],
      "text/plain": [
       "\u001b[2;36m[\u001b[0m\u001b[2;36m22:35:02\u001b[0m\u001b[2;36m]\u001b[0m  \u001b[1;38;2;38;139;210mtest_rbat_charged.task\u001b[0m | test_rbat_charged.\u001b[38;2;203;75;22mi_load\u001b[0m=1.0\n"
      ]
     },
     "metadata": {},
     "output_type": "display_data"
    },
    {
     "data": {
      "text/html": [
       "<pre style=\"white-space:pre;overflow-x:auto;line-height:normal;font-family:Menlo,'DejaVu Sans Mono',consolas,'Courier New',monospace\"><span style=\"color: #7fbfbf; text-decoration-color: #7fbfbf; font-weight: bold\">[</span><span style=\"color: #7fbfbf; text-decoration-color: #7fbfbf\">22:35:02</span><span style=\"color: #7fbfbf; text-decoration-color: #7fbfbf; font-weight: bold\">]</span>      = 0.8\n",
       "</pre>\n"
      ],
      "text/plain": [
       "\u001b[1;2;36m[\u001b[0m\u001b[2;36m22:35:02\u001b[0m\u001b[1;2;36m]\u001b[0m      = 0.8\n"
      ]
     },
     "metadata": {},
     "output_type": "display_data"
    },
    {
     "data": {
      "text/html": [
       "<pre style=\"white-space:pre;overflow-x:auto;line-height:normal;font-family:Menlo,'DejaVu Sans Mono',consolas,'Courier New',monospace\"><span style=\"color: #7fbfbf; text-decoration-color: #7fbfbf\">[22:35:02]</span>  <span style=\"color: #268bd2; text-decoration-color: #268bd2; font-weight: bold\">test_rbat_charged.final_fit</span>\n",
       "</pre>\n"
      ],
      "text/plain": [
       "\u001b[2;36m[\u001b[0m\u001b[2;36m22:35:02\u001b[0m\u001b[2;36m]\u001b[0m  \u001b[1;38;2;38;139;210mtest_rbat_charged.final_fit\u001b[0m\n"
      ]
     },
     "metadata": {},
     "output_type": "display_data"
    },
    {
     "data": {
      "text/html": [
       "<pre style=\"white-space:pre;overflow-x:auto;line-height:normal;font-family:Menlo,'DejaVu Sans Mono',consolas,'Courier New',monospace\"><span style=\"color: #7fbfbf; text-decoration-color: #7fbfbf; font-weight: bold\">[</span><span style=\"color: #7fbfbf; text-decoration-color: #7fbfbf\">22:35:02</span><span style=\"color: #7fbfbf; text-decoration-color: #7fbfbf; font-weight: bold\">]</span>      = <span style=\"color: #268bd2; text-decoration-color: #268bd2\">array</span><span style=\"font-weight: bold\">([</span>8.00000000e-01, 1.59768407e-16<span style=\"font-weight: bold\">])</span>\n",
       "</pre>\n"
      ],
      "text/plain": [
       "\u001b[1;2;36m[\u001b[0m\u001b[2;36m22:35:02\u001b[0m\u001b[1;2;36m]\u001b[0m      = \u001b[38;2;38;139;210marray\u001b[0m\u001b[1m(\u001b[0m\u001b[1m[\u001b[0m8.00000000e-01, 1.59768407e-16\u001b[1m]\u001b[0m\u001b[1m)\u001b[0m\n"
      ]
     },
     "metadata": {},
     "output_type": "display_data"
    },
    {
     "data": {
      "text/html": [
       "<pre style=\"white-space:pre;overflow-x:auto;line-height:normal;font-family:Menlo,'DejaVu Sans Mono',consolas,'Courier New',monospace\"><span style=\"color: #7fbfbf; text-decoration-color: #7fbfbf\">[22:35:02]</span>  <span style=\"color: #268bd2; text-decoration-color: #268bd2; font-weight: bold\">test_rbat_charged.rbat</span>\n",
       "</pre>\n"
      ],
      "text/plain": [
       "\u001b[2;36m[\u001b[0m\u001b[2;36m22:35:02\u001b[0m\u001b[2;36m]\u001b[0m  \u001b[1;38;2;38;139;210mtest_rbat_charged.rbat\u001b[0m\n"
      ]
     },
     "metadata": {},
     "output_type": "display_data"
    },
    {
     "data": {
      "text/html": [
       "<pre style=\"white-space:pre;overflow-x:auto;line-height:normal;font-family:Menlo,'DejaVu Sans Mono',consolas,'Courier New',monospace\"><span style=\"color: #7fbfbf; text-decoration-color: #7fbfbf; font-weight: bold\">[</span><span style=\"color: #7fbfbf; text-decoration-color: #7fbfbf\">22:35:02</span><span style=\"color: #7fbfbf; text-decoration-color: #7fbfbf; font-weight: bold\">]</span>      = 0.7999999999999999\n",
       "</pre>\n"
      ],
      "text/plain": [
       "\u001b[1;2;36m[\u001b[0m\u001b[2;36m22:35:02\u001b[0m\u001b[1;2;36m]\u001b[0m      = 0.7999999999999999\n"
      ]
     },
     "metadata": {},
     "output_type": "display_data"
    },
    {
     "data": {
      "text/html": [
       "<pre style=\"white-space:pre;overflow-x:auto;line-height:normal;font-family:Menlo,'DejaVu Sans Mono',consolas,'Courier New',monospace\"><span style=\"color: #7fbfbf; text-decoration-color: #7fbfbf\">[22:35:02]</span>  <span style=\"color: #268bd2; text-decoration-color: #268bd2; font-weight: bold\">test_rbat_charged.rbat.check</span>\n",
       "</pre>\n"
      ],
      "text/plain": [
       "\u001b[2;36m[\u001b[0m\u001b[2;36m22:35:02\u001b[0m\u001b[2;36m]\u001b[0m  \u001b[1;38;2;38;139;210mtest_rbat_charged.rbat.check\u001b[0m\n"
      ]
     },
     "metadata": {},
     "output_type": "display_data"
    },
    {
     "data": {
      "text/html": [
       "<pre style=\"white-space:pre;overflow-x:auto;line-height:normal;font-family:Menlo,'DejaVu Sans Mono',consolas,'Courier New',monospace\"><span style=\"color: #7fbfbf; text-decoration-color: #7fbfbf; font-weight: bold\">[</span><span style=\"color: #7fbfbf; text-decoration-color: #7fbfbf\">22:35:02</span><span style=\"color: #7fbfbf; text-decoration-color: #7fbfbf; font-weight: bold\">]</span>      = <span style=\"color: #859900; text-decoration-color: #859900; font-weight: bold; font-style: italic\">True</span>\n",
       "</pre>\n"
      ],
      "text/plain": [
       "\u001b[1;2;36m[\u001b[0m\u001b[2;36m22:35:02\u001b[0m\u001b[1;2;36m]\u001b[0m      = \u001b[1;3;38;2;133;153;0mTrue\u001b[0m\n"
      ]
     },
     "metadata": {},
     "output_type": "display_data"
    },
    {
     "data": {
      "text/html": [
       "<pre style=\"white-space:pre;overflow-x:auto;line-height:normal;font-family:Menlo,'DejaVu Sans Mono',consolas,'Courier New',monospace\">\n",
       "</pre>\n"
      ],
      "text/plain": [
       "\n"
      ]
     },
     "metadata": {},
     "output_type": "display_data"
    },
    {
     "data": {
      "text/html": [
       "<pre style=\"white-space:pre;overflow-x:auto;line-height:normal;font-family:Menlo,'DejaVu Sans Mono',consolas,'Courier New',monospace\">Summery: <span style=\"color: #859900; text-decoration-color: #859900\">1 passed</span>\n",
       "</pre>\n"
      ],
      "text/plain": [
       "Summery: \u001b[38;2;133;153;0m1\u001b[0m\u001b[38;2;133;153;0m passed\u001b[0m\n"
      ]
     },
     "metadata": {},
     "output_type": "display_data"
    },
    {
     "data": {
      "text/html": [
       "<pre style=\"white-space:pre;overflow-x:auto;line-height:normal;font-family:Menlo,'DejaVu Sans Mono',consolas,'Courier New',monospace\">File: dm/dm_2024-10-08_22:35:02.json\n",
       "</pre>\n"
      ],
      "text/plain": [
       "File: dm/dm_2024-10-08_22:35:02.json\n"
      ]
     },
     "metadata": {},
     "output_type": "display_data"
    }
   ],
   "source": [
    "dm = fly.DataManager()\n",
    "dm.run_log(TestPlan_BatterCheck)"
   ]
  },
  {
   "cell_type": "markdown",
   "id": "8840cb03-9174-409e-b5da-b3d57b9d9560",
   "metadata": {},
   "source": [
    "For a real measurement we just need to replace the `dut` function with something like\n",
    "\n",
    "```python\n",
    "def dut():\n",
    "    import instruments\n",
    "    dut = instruments.PowerSupply()\n",
    "    return dut\n",
    "```\n",
    "\n",
    "assuming an equal namespace\n",
    "\n",
    "```python\n",
    "dut.voltage\n",
    "dut.current\n",
    "```\n",
    "\n",
    "with an equal behavior."
   ]
  },
  {
   "cell_type": "markdown",
   "id": "8caee2fc-5d00-409c-ad2b-b325f42458a2",
   "metadata": {},
   "source": [
    "*Further information can be found in the **[FLooPy-Tutorial](./tutorial.ipynb)** which is more detailed.*\n",
    "\n",
    "---"
   ]
  },
  {
   "cell_type": "markdown",
   "id": "0f585d6c-03e0-47cf-be40-24b888ddc90b",
   "metadata": {},
   "source": [
    "## Install\n",
    "\n",
    "\n",
    "Simply do either\n",
    "\n",
    "    pip install floopy\n",
    "\n",
    "or download the repository for a more recent version, change into\n",
    "the `floopy` folder and\n",
    "\n",
    "    pip install . --user\n",
    "\n",
    "If necessary you can run the tests with\n",
    "\n",
    "    python -m pytest"
   ]
  },
  {
   "cell_type": "markdown",
   "id": "43b768a1-3981-4273-b8c5-bb388f856249",
   "metadata": {},
   "source": [
    "## Licence\n",
    "\n",
    "LoopyPlot is licenced under GPL 3."
   ]
  }
 ],
 "metadata": {
  "kernelspec": {
   "display_name": "Python 3 (ipykernel)",
   "language": "python",
   "name": "python3"
  },
  "language_info": {
   "codemirror_mode": {
    "name": "ipython",
    "version": 3
   },
   "file_extension": ".py",
   "mimetype": "text/x-python",
   "name": "python",
   "nbconvert_exporter": "python",
   "pygments_lexer": "ipython3",
   "version": "3.10.12"
  }
 },
 "nbformat": 4,
 "nbformat_minor": 5
}
